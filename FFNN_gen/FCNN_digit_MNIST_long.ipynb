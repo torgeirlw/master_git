{
 "cells": [
  {
   "cell_type": "code",
   "execution_count": 1,
   "metadata": {},
   "outputs": [],
   "source": [
    "import numpy as np\n",
    "import cv2\n",
    "import os\n",
    "import matplotlib.pyplot as plt"
   ]
  },
  {
   "cell_type": "code",
   "execution_count": 2,
   "metadata": {},
   "outputs": [],
   "source": [
    "import torch\n",
    "from torch import nn\n",
    "import PIL\n",
    "from torchvision import transforms\n",
    "from torchvision import datasets\n",
    "from torch.utils.data import Dataset, DataLoader\n",
    "from pathlib import Path"
   ]
  },
  {
   "cell_type": "code",
   "execution_count": 3,
   "metadata": {},
   "outputs": [],
   "source": [
    "assert torch.__version__=='1.8.1'"
   ]
  },
  {
   "cell_type": "code",
   "execution_count": 19,
   "metadata": {},
   "outputs": [
    {
     "name": "stdout",
     "output_type": "stream",
     "text": [
      "Downloading http://yann.lecun.com/exdb/mnist/train-images-idx3-ubyte.gz to digit_MNIST_data/MNIST/raw/train-images-idx3-ubyte.gz\n"
     ]
    },
    {
     "data": {
      "application/vnd.jupyter.widget-view+json": {
       "model_id": "a844cfe77334400c84442e5d4c64c8eb",
       "version_major": 2,
       "version_minor": 0
      },
      "text/plain": [
       "0it [00:00, ?it/s]"
      ]
     },
     "metadata": {},
     "output_type": "display_data"
    },
    {
     "name": "stdout",
     "output_type": "stream",
     "text": [
      "Extracting digit_MNIST_data/MNIST/raw/train-images-idx3-ubyte.gz\n",
      "Downloading http://yann.lecun.com/exdb/mnist/train-labels-idx1-ubyte.gz to digit_MNIST_data/MNIST/raw/train-labels-idx1-ubyte.gz\n"
     ]
    },
    {
     "data": {
      "application/vnd.jupyter.widget-view+json": {
       "model_id": "a12130e4860d402595e3eb913363931d",
       "version_major": 2,
       "version_minor": 0
      },
      "text/plain": [
       "0it [00:00, ?it/s]"
      ]
     },
     "metadata": {},
     "output_type": "display_data"
    },
    {
     "name": "stdout",
     "output_type": "stream",
     "text": [
      "Extracting digit_MNIST_data/MNIST/raw/train-labels-idx1-ubyte.gz\n",
      "Downloading http://yann.lecun.com/exdb/mnist/t10k-images-idx3-ubyte.gz to digit_MNIST_data/MNIST/raw/t10k-images-idx3-ubyte.gz\n"
     ]
    },
    {
     "data": {
      "application/vnd.jupyter.widget-view+json": {
       "model_id": "141a418c0c5f4d72b16ede521bc28828",
       "version_major": 2,
       "version_minor": 0
      },
      "text/plain": [
       "0it [00:00, ?it/s]"
      ]
     },
     "metadata": {},
     "output_type": "display_data"
    },
    {
     "name": "stdout",
     "output_type": "stream",
     "text": [
      "Extracting digit_MNIST_data/MNIST/raw/t10k-images-idx3-ubyte.gz\n",
      "Downloading http://yann.lecun.com/exdb/mnist/t10k-labels-idx1-ubyte.gz to digit_MNIST_data/MNIST/raw/t10k-labels-idx1-ubyte.gz\n"
     ]
    },
    {
     "data": {
      "application/vnd.jupyter.widget-view+json": {
       "model_id": "94734b12266b44d5bff0bf8cb58795ec",
       "version_major": 2,
       "version_minor": 0
      },
      "text/plain": [
       "0it [00:00, ?it/s]"
      ]
     },
     "metadata": {},
     "output_type": "display_data"
    },
    {
     "name": "stdout",
     "output_type": "stream",
     "text": [
      "Extracting digit_MNIST_data/MNIST/raw/t10k-labels-idx1-ubyte.gz\n",
      "Processing...\n"
     ]
    },
    {
     "name": "stderr",
     "output_type": "stream",
     "text": [
      "/Users/Torgeir/opt/anaconda3/lib/python3.8/site-packages/torchvision/datasets/mnist.py:335: UserWarning: The given NumPy array is not writeable, and PyTorch does not support non-writeable tensors. This means you can write to the underlying (supposedly non-writeable) NumPy array using the tensor. You may want to copy the array to protect its data or make it writeable before converting it to a tensor. This type of warning will be suppressed for the rest of this program. (Triggered internally at  /Users/distiller/project/conda/conda-bld/pytorch_1616554845587/work/torch/csrc/utils/tensor_numpy.cpp:143.)\n",
      "  return torch.from_numpy(parsed).view(length, num_rows, num_cols)\n"
     ]
    },
    {
     "name": "stdout",
     "output_type": "stream",
     "text": [
      "Done!\n"
     ]
    }
   ],
   "source": [
    "trainset = datasets.MNIST('digit_MNIST_data/', download = True, train = True, transform = transforms.ToTensor())\n",
    "testset = datasets.MNIST('digit_MNIST_data/', download = True, train = False, transform = transforms.ToTensor())"
   ]
  },
  {
   "cell_type": "code",
   "execution_count": 4,
   "metadata": {},
   "outputs": [
    {
     "data": {
      "text/plain": [
       "<torch._C.Generator at 0x7ff887667990>"
      ]
     },
     "execution_count": 4,
     "metadata": {},
     "output_type": "execute_result"
    }
   ],
   "source": [
    "np.random.seed(0)\n",
    "torch.manual_seed(0)"
   ]
  },
  {
   "cell_type": "code",
   "execution_count": 5,
   "metadata": {},
   "outputs": [],
   "source": [
    "class FashionNeihgborhoodData(Dataset):\n",
    "\n",
    "    def __init__(self, image_dir, transform=False, nbh_size=(5,11)):#csv_file,root,\n",
    "        #self.root = root\n",
    "        self.image_dir = image_dir\n",
    "        #self.image_files = os.listdir(image_dir)\n",
    "        #self.data = pd.read_csv(csv_file).iloc[:, 1]\n",
    "        self.fashion_data = torch.load(image_dir)\n",
    "        self.fashion_imgs = self.fashion_data[0]/255\n",
    "        self.fashion_labels = self.fashion_data[1]\n",
    "        self.transform = transform\n",
    "        self.nbh_size = nbh_size\n",
    "\n",
    "    def __len__(self):\n",
    "        return self.fashion_labels.shape[0]\n",
    "\n",
    "    def __getitem__(self, index):\n",
    "        #image_name = os.path.join(self.image_dir, self.image_files[index])  \n",
    "        #image = PIL.Image.open(image_name)\n",
    "        image = self.fashion_imgs[index]\n",
    "        #label = self.data[index]\n",
    "        if self.transform:\n",
    "            image = self.transform(image)\n",
    "        \n",
    "        nbh_im = torch.empty((0,50)) \n",
    "        for i in range(20):\n",
    "            #x1 = np.random.randint(0, images[1].shape[1]-self.nbh_size[0]-1)\n",
    "            #y1 = np.random.randint(0, images[1].shape[2]-self.nbh_size[1]-1)\n",
    "            x1 = np.random.randint(0, image.shape[0]-self.nbh_size[0]-1)\n",
    "            y1 = np.random.randint(0, image.shape[1]-self.nbh_size[1]-1)\n",
    "            \n",
    "            x2, y2 = x1+self.nbh_size[0], y1+self.nbh_size[1]\n",
    "            nbh = torch.flatten(image[x1:x2,y1:y2])\n",
    "            nbh = nbh[:50]\n",
    "            nbh_im = torch.cat((nbh_im, nbh.unsqueeze(0)), dim = 0)\n",
    "        \n",
    "        return nbh_im#image #, label)"
   ]
  },
  {
   "cell_type": "code",
   "execution_count": 6,
   "metadata": {},
   "outputs": [],
   "source": [
    "class MLP_Mix(nn.Module):#define neighborhood size\n",
    "    '''\n",
    "    Multilayer Perceptron.\n",
    "    '''\n",
    "    def __init__(self, first_layer_size, num_mixtures):\n",
    "        super().__init__()\n",
    "        self.first_layer_size = first_layer_size\n",
    "        self.num_mixtures = num_mixtures\n",
    "        self.layers = nn.Sequential(\n",
    "        nn.Flatten(),\n",
    "        nn.Linear(self.first_layer_size, 100),\n",
    "        nn.ReLU(),\n",
    "        #nn.LeakyReLU(),\n",
    "        nn.Linear(100, 100),\n",
    "        nn.ReLU(),\n",
    "        #nn.LeakyReLU(),\n",
    "        nn.Linear(100, 100),\n",
    "        nn.ReLU(), ## leaky relu\n",
    "        #nn.LeakyReLU(),\n",
    "        nn.Linear(100, 100),\n",
    "        nn.ReLU(), ## leaky relu\n",
    "        nn.Linear(100, 3*self.num_mixtures),#,\n",
    "        #nn.ReLU()\n",
    "        #nn.Sigmoid()\n",
    "        \n",
    "        )\n",
    "        self.softmax = nn.Softmax(dim=1)\n",
    "\n",
    "\n",
    "    def forward(self, x):\n",
    "        '''Forward pass'''\n",
    "        out = self.layers(x)\n",
    "\n",
    "        softplus = nn.Softplus()\n",
    "        sigmoid = nn.Sigmoid()\n",
    "\n",
    "        mu = torch.reshape(out[:,0:self.num_mixtures],(out.shape[0],self.num_mixtures))\n",
    "        mu1 = torch.reshape(mu[:,0],  (out.shape[0], 1))\n",
    "        mu2 = mu1 + torch.reshape(softplus(mu[:,1]), (out.shape[0], 1))\n",
    "        mu = torch.cat((mu1,mu2), dim=1)\n",
    "        mu = sigmoid(mu) #- 0.5\n",
    "\n",
    "        sig = torch.reshape(softplus(out[:,1*self.num_mixtures:2*self.num_mixtures]),(out.shape[0],self.num_mixtures)) #sig squared\n",
    "        sig = torch.clamp(sig, 0.00000001)\n",
    "\n",
    "        pi_mix = torch.reshape(out[:,2*self.num_mixtures:3*self.num_mixtures],(out.shape[0],self.num_mixtures))\n",
    "        pi_mix = self.softmax(pi_mix)\n",
    "\n",
    "        out = torch.cat((mu,sig,pi_mix),dim=1)\n",
    "\n",
    "        return out"
   ]
  },
  {
   "cell_type": "code",
   "execution_count": 6,
   "metadata": {},
   "outputs": [],
   "source": [
    "def Mixture_Gauss_NLLLoss(target, pred):# mu, sigma, pi_mix):\n",
    "    total_lik = 0\n",
    "    loss_func  = nn.GaussianNLLLoss(full=False, reduction='none')\n",
    "\n",
    "    nr_mix = int(pred.shape[1]/3)\n",
    "\n",
    "    mu = pred[:,0:nr_mix]\n",
    "    sigma_sq = pred[:,nr_mix:2*nr_mix]  #sigma2 \n",
    "    pi_mix = pred[:,2*nr_mix:3*nr_mix]  \n",
    "\n",
    "    sigma_sq = torch.clamp(sigma_sq, 0.00000001)\n",
    "    for i in range(nr_mix):\n",
    "\n",
    "        loss = loss_func(mu[:,i], target, sigma_sq[:,i])\n",
    "        likelihood = torch.exp(-loss)\n",
    "        \n",
    "        total_lik += pi_mix[:,i]*likelihood\n",
    "\n",
    "    \n",
    "    gauss_mix_loss = torch.log(torch.clamp(total_lik, min=0.00000001))\n",
    "   \n",
    "    return -gauss_mix_loss.mean()  #torchmean"
   ]
  },
  {
   "cell_type": "code",
   "execution_count": 21,
   "metadata": {},
   "outputs": [],
   "source": [
    "MNIST_train = FashionNeihgborhoodData(image_dir='digit_MNIST_data/MNIST/processed/training.pt')\n",
    "MNIST_test = FashionNeihgborhoodData(image_dir='digit_MNIST_data/MNIST/processed/test.pt')"
   ]
  },
  {
   "cell_type": "code",
   "execution_count": 7,
   "metadata": {},
   "outputs": [],
   "source": [
    "mlp_mix = MLP_Mix(first_layer_size=49, num_mixtures=2)\n",
    "\n",
    "# Define the loss function and optimizer\n",
    "loss_function  = Mixture_Gauss_NLLLoss\n",
    "\n",
    "#optimizer = torch.optim.SGD(mlp_mix.parameters(), lr=0.001)\n",
    "#lr_scheduler = \n",
    "optimizer = torch.optim.Adam(mlp_mix.parameters(), lr=0.0001)\n",
    "scheduler = torch.optim.lr_scheduler.ExponentialLR(optimizer, gamma=0.995)"
   ]
  },
  {
   "cell_type": "code",
   "execution_count": 10,
   "metadata": {},
   "outputs": [
    {
     "data": {
      "text/plain": [
       "35906"
      ]
     },
     "execution_count": 10,
     "metadata": {},
     "output_type": "execute_result"
    }
   ],
   "source": [
    "#sum(p.numel() for p in mlp_mix.parameters() if p.requires_grad)"
   ]
  },
  {
   "cell_type": "code",
   "execution_count": 28,
   "metadata": {},
   "outputs": [],
   "source": [
    "dataloader_train = DataLoader(MNIST_train, batch_size=20,\n",
    "                        shuffle=True)#, num_workers=0)\n",
    "\n",
    "dataloader_test = DataLoader(MNIST_test, batch_size=20,\n",
    "                        shuffle=True)"
   ]
  },
  {
   "cell_type": "code",
   "execution_count": 29,
   "metadata": {},
   "outputs": [],
   "source": [
    "epochs = 100 #20\n",
    "loss_vals_train = []\n",
    "loss_vals_test = []"
   ]
  },
  {
   "cell_type": "code",
   "execution_count": 30,
   "metadata": {},
   "outputs": [
    {
     "name": "stdout",
     "output_type": "stream",
     "text": [
      "Starting epoch 1\n",
      "Loss after mini-batch  3000: -4.114\n",
      "Val Loss after mini-batch   500: -4.762\n",
      "Starting epoch 2\n",
      "Loss after mini-batch  3000: -4.853\n",
      "Val Loss after mini-batch   500: -4.898\n",
      "Starting epoch 3\n",
      "Loss after mini-batch  3000: -4.913\n",
      "Val Loss after mini-batch   500: -4.929\n",
      "Starting epoch 4\n",
      "Loss after mini-batch  3000: -4.943\n",
      "Val Loss after mini-batch   500: -4.940\n",
      "Starting epoch 5\n",
      "Loss after mini-batch  3000: -4.956\n",
      "Val Loss after mini-batch   500: -4.959\n",
      "Starting epoch 6\n",
      "Loss after mini-batch  3000: -4.965\n",
      "Val Loss after mini-batch   500: -4.977\n",
      "Starting epoch 7\n",
      "Loss after mini-batch  3000: -4.980\n",
      "Val Loss after mini-batch   500: -4.982\n",
      "Starting epoch 8\n",
      "Loss after mini-batch  3000: -4.983\n",
      "Val Loss after mini-batch   500: -4.991\n",
      "Starting epoch 9\n",
      "Loss after mini-batch  3000: -4.988\n",
      "Val Loss after mini-batch   500: -4.995\n",
      "Starting epoch 10\n",
      "Loss after mini-batch  3000: -4.996\n",
      "Val Loss after mini-batch   500: -4.996\n",
      "Starting epoch 11\n",
      "Loss after mini-batch  3000: -5.003\n",
      "Val Loss after mini-batch   500: -5.009\n",
      "Starting epoch 12\n",
      "Loss after mini-batch  3000: -5.010\n",
      "Val Loss after mini-batch   500: -5.020\n",
      "Starting epoch 13\n",
      "Loss after mini-batch  3000: -5.009\n",
      "Val Loss after mini-batch   500: -5.009\n",
      "Starting epoch 14\n",
      "Loss after mini-batch  3000: -5.016\n",
      "Val Loss after mini-batch   500: -5.015\n",
      "Starting epoch 15\n",
      "Loss after mini-batch  3000: -5.020\n",
      "Val Loss after mini-batch   500: -5.020\n",
      "Starting epoch 16\n",
      "Loss after mini-batch  3000: -5.021\n",
      "Val Loss after mini-batch   500: -5.009\n",
      "Starting epoch 17\n",
      "Loss after mini-batch  3000: -5.021\n",
      "Val Loss after mini-batch   500: -5.024\n",
      "Starting epoch 18\n",
      "Loss after mini-batch  3000: -5.032\n",
      "Val Loss after mini-batch   500: -5.020\n",
      "Starting epoch 19\n",
      "Loss after mini-batch  3000: -5.032\n",
      "Val Loss after mini-batch   500: -5.022\n",
      "Starting epoch 20\n",
      "Loss after mini-batch  3000: -5.030\n",
      "Val Loss after mini-batch   500: -5.029\n",
      "Starting epoch 21\n",
      "Loss after mini-batch  3000: -5.032\n",
      "Val Loss after mini-batch   500: -5.041\n",
      "Starting epoch 22\n",
      "Loss after mini-batch  3000: -5.033\n",
      "Val Loss after mini-batch   500: -5.038\n",
      "Starting epoch 23\n",
      "Loss after mini-batch  3000: -5.038\n",
      "Val Loss after mini-batch   500: -5.037\n",
      "Starting epoch 24\n",
      "Loss after mini-batch  3000: -5.039\n",
      "Val Loss after mini-batch   500: -5.037\n",
      "Starting epoch 25\n",
      "Loss after mini-batch  3000: -5.041\n",
      "Val Loss after mini-batch   500: -5.036\n",
      "Starting epoch 26\n",
      "Loss after mini-batch  3000: -5.039\n",
      "Val Loss after mini-batch   500: -5.033\n",
      "Starting epoch 27\n",
      "Loss after mini-batch  3000: -5.041\n",
      "Val Loss after mini-batch   500: -5.046\n",
      "Starting epoch 28\n",
      "Loss after mini-batch  3000: -5.043\n",
      "Val Loss after mini-batch   500: -5.040\n",
      "Starting epoch 29\n",
      "Loss after mini-batch  3000: -5.049\n",
      "Val Loss after mini-batch   500: -5.045\n",
      "Starting epoch 30\n",
      "Loss after mini-batch  3000: -5.047\n",
      "Val Loss after mini-batch   500: -5.049\n",
      "Starting epoch 31\n",
      "Loss after mini-batch  3000: -5.045\n",
      "Val Loss after mini-batch   500: -5.049\n",
      "Starting epoch 32\n",
      "Loss after mini-batch  3000: -5.048\n",
      "Val Loss after mini-batch   500: -5.052\n",
      "Starting epoch 33\n",
      "Loss after mini-batch  3000: -5.049\n",
      "Val Loss after mini-batch   500: -5.051\n",
      "Starting epoch 34\n",
      "Loss after mini-batch  3000: -5.050\n",
      "Val Loss after mini-batch   500: -5.051\n",
      "Starting epoch 35\n",
      "Loss after mini-batch  3000: -5.050\n",
      "Val Loss after mini-batch   500: -5.044\n",
      "Starting epoch 36\n",
      "Loss after mini-batch  3000: -5.054\n",
      "Val Loss after mini-batch   500: -5.045\n",
      "Starting epoch 37\n",
      "Loss after mini-batch  3000: -5.057\n",
      "Val Loss after mini-batch   500: -5.046\n",
      "Starting epoch 38\n",
      "Loss after mini-batch  3000: -5.056\n",
      "Val Loss after mini-batch   500: -5.056\n",
      "Starting epoch 39\n",
      "Loss after mini-batch  3000: -5.059\n",
      "Val Loss after mini-batch   500: -5.047\n",
      "Starting epoch 40\n",
      "Loss after mini-batch  3000: -5.058\n",
      "Val Loss after mini-batch   500: -5.055\n",
      "Starting epoch 41\n",
      "Loss after mini-batch  3000: -5.055\n",
      "Val Loss after mini-batch   500: -5.052\n",
      "Starting epoch 42\n",
      "Loss after mini-batch  3000: -5.061\n",
      "Val Loss after mini-batch   500: -5.053\n",
      "Starting epoch 43\n",
      "Loss after mini-batch  3000: -5.064\n",
      "Val Loss after mini-batch   500: -5.051\n",
      "Starting epoch 44\n",
      "Loss after mini-batch  3000: -5.056\n",
      "Val Loss after mini-batch   500: -5.051\n",
      "Starting epoch 45\n",
      "Loss after mini-batch  3000: -5.058\n",
      "Val Loss after mini-batch   500: -5.058\n",
      "Starting epoch 46\n",
      "Loss after mini-batch  3000: -5.062\n",
      "Val Loss after mini-batch   500: -5.055\n",
      "Starting epoch 47\n",
      "Loss after mini-batch  3000: -5.059\n",
      "Val Loss after mini-batch   500: -5.061\n",
      "Starting epoch 48\n",
      "Loss after mini-batch  3000: -5.061\n",
      "Val Loss after mini-batch   500: -5.049\n",
      "Starting epoch 49\n",
      "Loss after mini-batch  3000: -5.065\n",
      "Val Loss after mini-batch   500: -5.064\n",
      "Starting epoch 50\n",
      "Loss after mini-batch  3000: -5.059\n",
      "Val Loss after mini-batch   500: -5.063\n",
      "Starting epoch 51\n",
      "Loss after mini-batch  3000: -5.060\n",
      "Val Loss after mini-batch   500: -5.062\n",
      "Starting epoch 52\n",
      "Loss after mini-batch  3000: -5.066\n",
      "Val Loss after mini-batch   500: -5.067\n",
      "Starting epoch 53\n",
      "Loss after mini-batch  3000: -5.069\n",
      "Val Loss after mini-batch   500: -5.045\n",
      "Starting epoch 54\n",
      "Loss after mini-batch  3000: -5.065\n",
      "Val Loss after mini-batch   500: -5.060\n",
      "Starting epoch 55\n",
      "Loss after mini-batch  3000: -5.066\n",
      "Val Loss after mini-batch   500: -5.061\n",
      "Starting epoch 56\n",
      "Loss after mini-batch  3000: -5.064\n",
      "Val Loss after mini-batch   500: -5.081\n",
      "Starting epoch 57\n",
      "Loss after mini-batch  3000: -5.066\n",
      "Val Loss after mini-batch   500: -5.055\n",
      "Starting epoch 58\n",
      "Loss after mini-batch  3000: -5.067\n",
      "Val Loss after mini-batch   500: -5.059\n",
      "Starting epoch 59\n",
      "Loss after mini-batch  3000: -5.070\n",
      "Val Loss after mini-batch   500: -5.060\n",
      "Starting epoch 60\n",
      "Loss after mini-batch  3000: -5.071\n",
      "Val Loss after mini-batch   500: -5.057\n",
      "Starting epoch 61\n",
      "Loss after mini-batch  3000: -5.069\n",
      "Val Loss after mini-batch   500: -5.061\n",
      "Starting epoch 62\n",
      "Loss after mini-batch  3000: -5.064\n",
      "Val Loss after mini-batch   500: -5.066\n",
      "Starting epoch 63\n",
      "Loss after mini-batch  3000: -5.068\n",
      "Val Loss after mini-batch   500: -5.081\n",
      "Starting epoch 64\n",
      "Loss after mini-batch  3000: -5.072\n",
      "Val Loss after mini-batch   500: -5.064\n",
      "Starting epoch 65\n",
      "Loss after mini-batch  3000: -5.071\n",
      "Val Loss after mini-batch   500: -5.053\n",
      "Starting epoch 66\n",
      "Loss after mini-batch  3000: -5.069\n",
      "Val Loss after mini-batch   500: -5.068\n",
      "Starting epoch 67\n",
      "Loss after mini-batch  3000: -5.073\n",
      "Val Loss after mini-batch   500: -5.068\n",
      "Starting epoch 68\n",
      "Loss after mini-batch  3000: -5.073\n",
      "Val Loss after mini-batch   500: -5.064\n",
      "Starting epoch 69\n",
      "Loss after mini-batch  3000: -5.071\n",
      "Val Loss after mini-batch   500: -5.071\n",
      "Starting epoch 70\n",
      "Loss after mini-batch  3000: -5.072\n",
      "Val Loss after mini-batch   500: -5.070\n",
      "Starting epoch 71\n",
      "Loss after mini-batch  3000: -5.076\n",
      "Val Loss after mini-batch   500: -5.070\n",
      "Starting epoch 72\n",
      "Loss after mini-batch  3000: -5.073\n",
      "Val Loss after mini-batch   500: -5.076\n",
      "Starting epoch 73\n",
      "Loss after mini-batch  3000: -5.072\n",
      "Val Loss after mini-batch   500: -5.062\n",
      "Starting epoch 74\n",
      "Loss after mini-batch  3000: -5.074\n",
      "Val Loss after mini-batch   500: -5.062\n",
      "Starting epoch 75\n",
      "Loss after mini-batch  3000: -5.077\n",
      "Val Loss after mini-batch   500: -5.076\n",
      "Starting epoch 76\n",
      "Loss after mini-batch  3000: -5.072\n",
      "Val Loss after mini-batch   500: -5.069\n",
      "Starting epoch 77\n",
      "Loss after mini-batch  3000: -5.073\n",
      "Val Loss after mini-batch   500: -5.076\n",
      "Starting epoch 78\n",
      "Loss after mini-batch  3000: -5.075\n",
      "Val Loss after mini-batch   500: -5.067\n",
      "Starting epoch 79\n",
      "Loss after mini-batch  3000: -5.072\n",
      "Val Loss after mini-batch   500: -5.069\n",
      "Starting epoch 80\n",
      "Loss after mini-batch  3000: -5.074\n",
      "Val Loss after mini-batch   500: -5.072\n",
      "Starting epoch 81\n",
      "Loss after mini-batch  3000: -5.075\n",
      "Val Loss after mini-batch   500: -5.082\n",
      "Starting epoch 82\n",
      "Loss after mini-batch  3000: -5.073\n",
      "Val Loss after mini-batch   500: -5.070\n",
      "Starting epoch 83\n",
      "Loss after mini-batch  3000: -5.075\n",
      "Val Loss after mini-batch   500: -5.071\n",
      "Starting epoch 84\n",
      "Loss after mini-batch  3000: -5.078\n",
      "Val Loss after mini-batch   500: -5.076\n",
      "Starting epoch 85\n",
      "Loss after mini-batch  3000: -5.079\n",
      "Val Loss after mini-batch   500: -5.072\n",
      "Starting epoch 86\n",
      "Loss after mini-batch  3000: -5.076\n",
      "Val Loss after mini-batch   500: -5.077\n",
      "Starting epoch 87\n",
      "Loss after mini-batch  3000: -5.078\n",
      "Val Loss after mini-batch   500: -5.064\n",
      "Starting epoch 88\n",
      "Loss after mini-batch  3000: -5.078\n",
      "Val Loss after mini-batch   500: -5.077\n",
      "Starting epoch 89\n",
      "Loss after mini-batch  3000: -5.079\n",
      "Val Loss after mini-batch   500: -5.057\n",
      "Starting epoch 90\n",
      "Loss after mini-batch  3000: -5.081\n",
      "Val Loss after mini-batch   500: -5.082\n",
      "Starting epoch 91\n",
      "Loss after mini-batch  3000: -5.078\n",
      "Val Loss after mini-batch   500: -5.081\n",
      "Starting epoch 92\n",
      "Loss after mini-batch  3000: -5.084\n",
      "Val Loss after mini-batch   500: -5.082\n",
      "Starting epoch 93\n",
      "Loss after mini-batch  3000: -5.076\n",
      "Val Loss after mini-batch   500: -5.081\n",
      "Starting epoch 94\n",
      "Loss after mini-batch  3000: -5.078\n",
      "Val Loss after mini-batch   500: -5.073\n",
      "Starting epoch 95\n",
      "Loss after mini-batch  3000: -5.081\n",
      "Val Loss after mini-batch   500: -5.065\n",
      "Starting epoch 96\n",
      "Loss after mini-batch  3000: -5.082\n",
      "Val Loss after mini-batch   500: -5.079\n",
      "Starting epoch 97\n",
      "Loss after mini-batch  3000: -5.079\n",
      "Val Loss after mini-batch   500: -5.086\n",
      "Starting epoch 98\n",
      "Loss after mini-batch  3000: -5.083\n",
      "Val Loss after mini-batch   500: -5.073\n",
      "Starting epoch 99\n",
      "Loss after mini-batch  3000: -5.084\n",
      "Val Loss after mini-batch   500: -5.083\n",
      "Starting epoch 100\n",
      "Loss after mini-batch  3000: -5.082\n",
      "Val Loss after mini-batch   500: -5.074\n",
      "Training process has finished.\n"
     ]
    }
   ],
   "source": [
    "for e in range(epochs): \n",
    "    \n",
    "    print(f'Starting epoch {e+1}')\n",
    "    \n",
    "    # Set current loss value\n",
    "    current_loss = 0.0\n",
    "    \n",
    "    for i, data in enumerate(dataloader_train, 0):\n",
    "        \n",
    "        #current_loss = 0.0\n",
    "      # Get and prepare inputs\n",
    "        data = torch.reshape(data,(-1,50))\n",
    "        inputs, targets = data[:,:-1], data[:,-1]\n",
    "        inputs, targets = inputs.float(), targets.float()\n",
    "        targets = targets.reshape((targets.shape[0], 1))\n",
    "      \n",
    "      # Zero the gradients\n",
    "        optimizer.zero_grad()\n",
    "      \n",
    "      # Perform forward pass\n",
    "        outputs = mlp_mix(inputs)\n",
    "        \n",
    "      # Compute loss\n",
    "        \n",
    "        loss = loss_function(targets, outputs)#mu_s, sigma_s, pi_mix)\n",
    "      \n",
    "      # Perform backward pass\n",
    "        loss.backward()\n",
    "      \n",
    "      # Perform optimization\n",
    "        optimizer.step()\n",
    "      \n",
    "      # Print statistics\n",
    "        current_loss += loss.item()\n",
    "        \n",
    "        #if i % 500 == 0:\n",
    "        #if i % 20 == 0:\n",
    "    scheduler.step()\n",
    "\n",
    "    print('Loss after mini-batch %5d: %.3f' %\n",
    "                (i + 1, current_loss / len(dataloader_train)))\n",
    "    #current_loss = 0.0\n",
    "\n",
    "    validation_loss = 0.0\n",
    "    mlp_mix.eval()\n",
    "\n",
    "    for i, data in enumerate(dataloader_test, 0):\n",
    "\n",
    "        data = torch.reshape(data,(-1,50))\n",
    "        inputs, targets = data[:,:-1], data[:,-1]\n",
    "        inputs, targets = inputs.float(), targets.float()\n",
    "        targets = targets.reshape((targets.shape[0], 1))\n",
    "\n",
    "        outputs = mlp_mix(inputs)\n",
    "\n",
    "        loss_val = loss_function(targets, outputs)# mu_s, sigma_s, pi_mix)\n",
    "\n",
    "        validation_loss += loss_val.item()\n",
    "\n",
    "\n",
    "    print('Val Loss after mini-batch %5d: %.3f' %\n",
    "                (i + 1, validation_loss / len(dataloader_test)))\n",
    "  # Process is complete.\n",
    "    loss_vals_train.append(current_loss/len(dataloader_train))\n",
    "    loss_vals_test.append(validation_loss/len(dataloader_test))\n",
    "\n",
    "print('Training process has finished.')"
   ]
  },
  {
   "cell_type": "code",
   "execution_count": 31,
   "metadata": {},
   "outputs": [],
   "source": [
    "torch.save(mlp_mix.state_dict(), 'FCNN_mnist_model.pt')"
   ]
  },
  {
   "cell_type": "code",
   "execution_count": 48,
   "metadata": {},
   "outputs": [
    {
     "data": {
      "text/plain": [
       "Text(0.5, 1.0, 'loss')"
      ]
     },
     "execution_count": 48,
     "metadata": {},
     "output_type": "execute_result"
    },
    {
     "data": {
      "image/png": "[encoded data removed]",
      "text/plain": [
       "<Figure size 640x480 with 1 Axes>"
      ]
     },
     "metadata": {},
     "output_type": "display_data"
    }
   ],
   "source": [
    "plt.plot(range(len(loss_vals_train)),loss_vals_train, label='traiin loss')\n",
    "plt.plot(range(len(loss_vals_test)),loss_vals_test, label='test loss')\n",
    "plt.xlabel('epochs')\n",
    "plt.ylabel('Gauss Mix NLL loss')\n",
    "plt.legend()\n",
    "plt.savefig('../figures/MNIST_FCNN_loss_plot.jpg')\n",
    "plt.title('loss')"
   ]
  },
  {
   "cell_type": "code",
   "execution_count": null,
   "metadata": {},
   "outputs": [],
   "source": []
  },
  {
   "cell_type": "code",
   "execution_count": 53,
   "metadata": {},
   "outputs": [],
   "source": [
    "def gen_im_mix(model, new_img, nbh_size):#im_size, nbh_size):\n",
    "    m, n = nbh_size\n",
    "    \n",
    "    im_size = new_img.shape\n",
    "    #new_im = torch.rand(im_size)-0.5 # prøv med 0.5\n",
    "    #new_im = torch.full(im_size,0.5)\n",
    "    new_im = new_img.clone()\n",
    "    pred_mu = np.zeros(im_size)\n",
    "    pred_sigma2 = np.zeros(im_size)\n",
    "    pred_mu2 = np.zeros(im_size)\n",
    "    pred_sigma2_2 = np.zeros(im_size)\n",
    "    pred_pi_mix = np.zeros(im_size)\n",
    "    \n",
    "    #new_im = fashion_imgs_test[0][2]/255 - 0.5\n",
    "    #new_im = new_im.numpy()\n",
    "    \n",
    "    for i in range(10, new_im.shape[0]):\n",
    "        for j in range(n, new_im.shape[1]-n):\n",
    "            \n",
    "            neighborhood = new_im[i+1-m:i+1,j-n:(j+n+1)]\n",
    "            flat_n = neighborhood.flatten()\n",
    "            \n",
    "            dlt = n\n",
    "            \n",
    "            nbh_ij = flat_n[:-(dlt+1)]\n",
    "            \n",
    "            output = model(torch.reshape(nbh_ij,(1,49))).detach().numpy()\n",
    "\n",
    "            #pi_mix_output = output[0,2]\n",
    "            #mu_output = output[0,0]\n",
    "            #sigma2_output = output[0,1]\n",
    "            #print(sigma2_output)\n",
    "            nr_mix = int(output.shape[1]/3)\n",
    "\n",
    "            pi_mix_output = output[0,2*nr_mix:]\n",
    "            mu_output = output[0,0:nr_mix]\n",
    "            sigma2_output = output[0,nr_mix:2*nr_mix]\n",
    "            #print(pi_mix_output)\n",
    "            \n",
    "            pi_mix_sample = np.random.choice(nr_mix, 1, p=pi_mix_output)[0]\n",
    "            #pi_mix_sample = 0\n",
    "            \n",
    "            #sample = np.random.normal(output.detach().numpy()[0,0],np.sqrt(np.abs(output.detach().numpy()[0,1])))\n",
    "            sample = np.random.normal(mu_output[pi_mix_sample], np.sqrt(sigma2_output[pi_mix_sample]))\n",
    "            #sample = np.random.normal(mu_output, np.sqrt(sigma2_output))\n",
    "            \n",
    "            sample = np.clip(sample, 0.0, 1.0)\n",
    "            #new_im[i,j] = sample\n",
    "\n",
    "            #new_im[i,j] = torch.from_numpy(mu_output)[pi_mix_sample]\n",
    "\n",
    "            #pred_mu[i,j] = mu_output[pi_mix_sample]\n",
    "            #pred_sigma2[i,j] = sigma2_output[pi_mix_sample]\n",
    "            pred_mu[i,j] = mu_output[0]\n",
    "            pred_sigma2[i,j] = sigma2_output[0]\n",
    "\n",
    "            pred_mu2[i,j] = mu_output[1]\n",
    "            pred_sigma2_2[i,j] = sigma2_output[1]\n",
    "            pred_pi_mix[i,j] = pi_mix_output[0]\n",
    "    \n",
    "    #return new_im, pred_mu, pred_sigma2\n",
    "    return new_im, pred_mu, pred_mu2, pred_sigma2, pred_sigma2_2, pred_pi_mix"
   ]
  },
  {
   "cell_type": "code",
   "execution_count": 8,
   "metadata": {},
   "outputs": [],
   "source": [
    "mnist_imgs_train = torch.load('digit_MNIST_data/MNIST/processed/training.pt')\n",
    "mnist_imgs_test = torch.load('digit_MNIST_data/MNIST/processed/test.pt')"
   ]
  },
  {
   "cell_type": "code",
   "execution_count": 10,
   "metadata": {},
   "outputs": [
    {
     "data": {
      "text/plain": [
       "MLP_Mix(\n",
       "  (layers): Sequential(\n",
       "    (0): Flatten(start_dim=1, end_dim=-1)\n",
       "    (1): Linear(in_features=49, out_features=100, bias=True)\n",
       "    (2): ReLU()\n",
       "    (3): Linear(in_features=100, out_features=100, bias=True)\n",
       "    (4): ReLU()\n",
       "    (5): Linear(in_features=100, out_features=100, bias=True)\n",
       "    (6): ReLU()\n",
       "    (7): Linear(in_features=100, out_features=100, bias=True)\n",
       "    (8): ReLU()\n",
       "    (9): Linear(in_features=100, out_features=6, bias=True)\n",
       "  )\n",
       "  (softmax): Softmax(dim=1)\n",
       ")"
      ]
     },
     "execution_count": 10,
     "metadata": {},
     "output_type": "execute_result"
    }
   ],
   "source": [
    "mlp_mix = MLP_Mix(first_layer_size=49, num_mixtures=2)\n",
    "mlp_mix.load_state_dict(torch.load('FCNN_mnist_model.pt'))\n",
    "mlp_mix.eval()"
   ]
  },
  {
   "cell_type": "code",
   "execution_count": 16,
   "metadata": {},
   "outputs": [],
   "source": [
    "new_im, pred_mu, pred_mu2, pred_sigma2, pred_sigma2_2, pred_pi_mix = gen_im_mix(mlp_mix, mnist_imgs_test[0][1]/255, (5,5))"
   ]
  },
  {
   "cell_type": "code",
   "execution_count": 29,
   "metadata": {},
   "outputs": [
    {
     "data": {
      "image/png": "[encoded data removed]",
      "text/plain": [
       "<Figure size 640x480 with 10 Axes>"
      ]
     },
     "metadata": {},
     "output_type": "display_data"
    }
   ],
   "source": [
    "fig, axes = plt.subplots(nrows=3, ncols=3,sharex=True, sharey=True)\n",
    "x = [5, 23]\n",
    "y = [10, 10]\n",
    "xx = [5, 5]\n",
    "yy = [10, 27]\n",
    "xxx = [23, 23]\n",
    "yyy = [10, 27]\n",
    "for i, ax in enumerate(axes.flat):\n",
    "    if i==0:\n",
    "        im = ax.imshow( mnist_imgs_test[0][1]/255, vmin=0, vmax=1,cmap='gray')\n",
    "    else:\n",
    "        new_im, _, _, _, _, _ = gen_im_mix(mlp_mix, mnist_imgs_test[0][1]/255, (5,5))\n",
    "        im = ax.imshow(new_im, vmin=0, vmax=1,cmap='gray')\n",
    "        ax.plot(x, y, color=\"red\", linewidth=1)\n",
    "        ax.plot(xx, yy, color=\"red\", linewidth=1)\n",
    "        ax.plot(xxx, yyy, color=\"red\", linewidth=1)\n",
    "\n",
    "image = fig.colorbar(im, ax=axes.ravel().tolist())\n",
    "fig.suptitle('FCNN sample images')\n",
    "plt.savefig('../figures/MNIST_FCNN_sample1.jpg')\n",
    "plt.show()"
   ]
  },
  {
   "cell_type": "code",
   "execution_count": 45,
   "metadata": {},
   "outputs": [
    {
     "data": {
      "image/png": "[encoded data removed]",
      "text/plain": [
       "<Figure size 640x480 with 10 Axes>"
      ]
     },
     "metadata": {},
     "output_type": "display_data"
    }
   ],
   "source": [
    "fig, axes = plt.subplots(nrows=3, ncols=3,sharex=True, sharey=True)\n",
    "x = [5, 23]\n",
    "y = [10, 10]\n",
    "xx = [5, 5]\n",
    "yy = [10, 27]\n",
    "xxx = [23, 23]\n",
    "yyy = [10, 27]\n",
    "for i, ax in enumerate(axes.flat):\n",
    "    if i==0:\n",
    "        im = ax.imshow( mnist_imgs_test[0][17]/255, vmin=0, vmax=1,cmap='gray')\n",
    "    else:\n",
    "        new_im, _, _, _, _, _ = gen_im_mix(mlp_mix, mnist_imgs_test[0][17]/255, (5,5))\n",
    "        im = ax.imshow(new_im, vmin=0, vmax=1,cmap='gray')\n",
    "        ax.plot(x, y, color=\"red\", linewidth=1)\n",
    "        ax.plot(xx, yy, color=\"red\", linewidth=1)\n",
    "        ax.plot(xxx, yyy, color=\"red\", linewidth=1)\n",
    "\n",
    "image = fig.colorbar(im, ax=axes.ravel().tolist())\n",
    "fig.suptitle('FCNN sample images')\n",
    "plt.savefig('../figures/MNIST_FCNN_sample2.jpg')\n",
    "plt.show()"
   ]
  },
  {
   "cell_type": "code",
   "execution_count": 46,
   "metadata": {},
   "outputs": [
    {
     "data": {
      "text/plain": [
       "torch.Size([28, 28])"
      ]
     },
     "execution_count": 46,
     "metadata": {},
     "output_type": "execute_result"
    }
   ],
   "source": [
    "mnist_imgs_test[0][17].shape"
   ]
  },
  {
   "cell_type": "code",
   "execution_count": 52,
   "metadata": {},
   "outputs": [
    {
     "data": {
      "text/plain": [
       "'\\nx = [5, 23]\\ny = [10, 10]\\nxx = [5, 5]\\nyy = [10, 27]\\nxxx = [23, 23]\\nyyy = [10, 27]\\nplt.plot(x, y, color=\"red\", linewidth=1)\\nplt.plot(xx, yy, color=\"red\", linewidth=1)\\nplt.plot(xxx, yyy, color=\"red\", linewidth=1)\\n'"
      ]
     },
     "execution_count": 52,
     "metadata": {},
     "output_type": "execute_result"
    }
   ],
   "source": [
    "#new_im, _, _, _, _, _ = gen_im_mix(mlp_mix, torch.zeros((100,100)), (5,5))\n",
    "#plt.imshow(new_im,cmap='gray')\n",
    "\"\"\"\n",
    "x = [5, 23]\n",
    "y = [10, 10]\n",
    "xx = [5, 5]\n",
    "yy = [10, 27]\n",
    "xxx = [23, 23]\n",
    "yyy = [10, 27]\n",
    "plt.plot(x, y, color=\"red\", linewidth=1)\n",
    "plt.plot(xx, yy, color=\"red\", linewidth=1)\n",
    "plt.plot(xxx, yyy, color=\"red\", linewidth=1)\n",
    "\"\"\"\n",
    "#plt.savefig('../figures/MNIST_FCNN_sample1.jpg')\n",
    "#plt.title('FCNN sample with 2')\n",
    "#plt.colorbar()"
   ]
  },
  {
   "cell_type": "code",
   "execution_count": 134,
   "metadata": {},
   "outputs": [
    {
     "data": {
      "text/plain": [
       "<matplotlib.colorbar.Colorbar at 0x7f84c3645ac0>"
      ]
     },
     "execution_count": 134,
     "metadata": {},
     "output_type": "execute_result"
    },
    {
     "data": {
      "image/png": "[encoded data removed]",
      "text/plain": [
       "<Figure size 640x480 with 2 Axes>"
      ]
     },
     "metadata": {},
     "output_type": "display_data"
    }
   ],
   "source": [
    "plt.imshow(new_im,cmap='gray')\n",
    "x = [5, 23]\n",
    "y = [10, 10]\n",
    "xx = [5, 5]\n",
    "yy = [10, 27]\n",
    "xxx = [23, 23]\n",
    "yyy = [10, 27]\n",
    "plt.plot(x, y, color=\"red\", linewidth=1)\n",
    "plt.plot(xx, yy, color=\"red\", linewidth=1)\n",
    "plt.plot(xxx, yyy, color=\"red\", linewidth=1)\n",
    "#plt.savefig('../figures/MNIST_FCNN_sample1.jpg')\n",
    "plt.title('FCNN sample with 2')\n",
    "plt.colorbar()"
   ]
  },
  {
   "cell_type": "code",
   "execution_count": 116,
   "metadata": {},
   "outputs": [],
   "source": [
    "#plt.imshow(mnist_imgs_test[0][1]/255,cmap='gray')"
   ]
  },
  {
   "cell_type": "code",
   "execution_count": null,
   "metadata": {},
   "outputs": [],
   "source": []
  },
  {
   "cell_type": "code",
   "execution_count": 57,
   "metadata": {},
   "outputs": [],
   "source": [
    "#no sampling\n",
    "new_im, pred_mu, pred_mu2, pred_sigma2, pred_sigma2_2, pred_pi_mix = gen_im_mix(mlp_mix, mnist_imgs_test[0][1]/255, (5,5))"
   ]
  },
  {
   "cell_type": "code",
   "execution_count": 58,
   "metadata": {},
   "outputs": [
    {
     "data": {
      "image/png": "[encoded data removed]",
      "text/plain": [
       "<Figure size 640x480 with 9 Axes>"
      ]
     },
     "metadata": {},
     "output_type": "display_data"
    }
   ],
   "source": [
    "fig, axes = plt.subplots(nrows=2, ncols=3)#,sharex=True, sharey=True)\n",
    "\n",
    "im = axes.flat[0].imshow(new_im, vmin=0, vmax=1,cmap='gray')\n",
    "#plt.colorbar(im, ax=axes[0,0],fraction=0.046, pad=0.04)\n",
    "axes[0,0].set_title(\"Actual test image\")\n",
    "\n",
    "x = [5, 23]\n",
    "y = [10, 10]\n",
    "xx = [5, 5]\n",
    "yy = [10, 27]\n",
    "xxx = [23, 23]\n",
    "yyy = [10, 27]\n",
    "\n",
    "axes[0,1].plot(x, y, color=\"red\", linewidth=1)\n",
    "axes[0,1].plot(xx, yy, color=\"red\", linewidth=1)\n",
    "axes[0,1].plot(xxx, yyy, color=\"red\", linewidth=1)\n",
    "im = axes.flat[1].imshow(pred_mu, vmin=0, vmax=1,cmap='gray')\n",
    "#plt.colorbar(im, ax=axes[1],fraction=0.046, pad=0.04)\n",
    "axes[0,1].set_title(\"Predicted mu_1\")\n",
    "\n",
    "axes[0,2].plot(x, y, color=\"red\", linewidth=1)\n",
    "axes[0,2].plot(xx, yy, color=\"red\", linewidth=1)\n",
    "axes[0,2].plot(xxx, yyy, color=\"red\", linewidth=1)\n",
    "im = axes.flat[2].imshow(pred_mu2, vmin=0, vmax=1,cmap='gray')\n",
    "#plt.colorbar(im, ax=axes[1],fraction=0.046, pad=0.04)\n",
    "axes[0,2].set_title(\"Predicted mu_2\")\n",
    "\n",
    "axes[1,0].plot(x, y, color=\"red\", linewidth=1)\n",
    "axes[1,0].plot(xx, yy, color=\"red\", linewidth=1)\n",
    "axes[1,0].plot(xxx, yyy, color=\"red\", linewidth=1)\n",
    "im = axes.flat[3].imshow(pred_sigma2,cmap='gray')\n",
    "#plt.colorbar(im, ax=axes[1,0],fraction=0.046, pad=0.04)\n",
    "fig.colorbar(im,ax=axes[1,0],fraction=0.046, pad=0.04)\n",
    "axes[1,0].set_title(\"Pred sigma^2\")\n",
    "\n",
    "axes[1,1].plot(x, y, color=\"red\", linewidth=1)\n",
    "axes[1,1].plot(xx, yy, color=\"red\", linewidth=1)\n",
    "axes[1,1].plot(xxx, yyy, color=\"red\", linewidth=1)\n",
    "im = axes.flat[4].imshow(pred_sigma2_2, cmap='gray')\n",
    "fig.colorbar(im, ax=axes[1,1],fraction=0.046, pad=0.04)\n",
    "#plt.colorbar(im, ax=axes[1,1])#,fraction=0.046, pad=0.04)\n",
    "axes[1,1].set_title(\"Pred sigma_2^2\")\n",
    "\n",
    "axes[1,2].plot(x, y, color=\"red\", linewidth=1)\n",
    "axes[1,2].plot(xx, yy, color=\"red\", linewidth=1)\n",
    "axes[1,2].plot(xxx, yyy, color=\"red\", linewidth=1)\n",
    "im = axes.flat[5].imshow(pred_pi_mix, vmin=0, vmax=1,cmap='gray')\n",
    "axes[1,2].set_title(\"Predicted mixture\")\n",
    "\n",
    "\n",
    "fig.suptitle('Predictions with nr 2')\n",
    "#plt.colorbar(im, ax=axes[1],fraction=0.046, pad=0.04)\n",
    "fig.tight_layout()\n",
    "#fig.set_figheight(5)\n",
    "#fig.set_figwidth(10)\n",
    "#fig.colorbar(im, ax=axes[[0,1],2],fraction=0.46)#, pad=0.04)#fraction=0.46, pad=0.4)# ax=axes.ravel().tolist())\n",
    "fig.subplots_adjust(right=0.8)\n",
    "cbar_ax = fig.add_axes([0.85, 0.15, 0.05, 0.7])\n",
    "fig.colorbar(im, cax=cbar_ax)\n",
    "plt.savefig('../figures/MNIST_FCNN_pred_res1.jpg')\n",
    "plt.show()"
   ]
  },
  {
   "cell_type": "code",
   "execution_count": 137,
   "metadata": {},
   "outputs": [
    {
     "data": {
      "text/plain": [
       "<matplotlib.colorbar.Colorbar at 0x7f84c3828910>"
      ]
     },
     "execution_count": 137,
     "metadata": {},
     "output_type": "execute_result"
    },
    {
     "data": {
      "image/png": "[encoded data removed]",
      "text/plain": [
       "<Figure size 640x480 with 2 Axes>"
      ]
     },
     "metadata": {},
     "output_type": "display_data"
    }
   ],
   "source": [
    "plt.imshow(new_im,cmap='gray')\n",
    "x = [5, 23]\n",
    "y = [10, 10]\n",
    "xx = [5, 5]\n",
    "yy = [10, 27]\n",
    "xxx = [23, 23]\n",
    "yyy = [10, 27]\n",
    "plt.plot(x, y, color=\"red\", linewidth=1)\n",
    "plt.plot(xx, yy, color=\"red\", linewidth=1)\n",
    "plt.plot(xxx, yyy, color=\"red\", linewidth=1)\n",
    "#plt.savefig('../figures/MNIST_FCNN_sample3.jpg')\n",
    "plt.colorbar()"
   ]
  },
  {
   "cell_type": "code",
   "execution_count": 202,
   "metadata": {},
   "outputs": [
    {
     "data": {
      "text/plain": [
       "<matplotlib.image.AxesImage at 0x7f84c3c29730>"
      ]
     },
     "execution_count": 202,
     "metadata": {},
     "output_type": "execute_result"
    },
    {
     "data": {
      "image/png": "[encoded data removed]",
      "text/plain": [
       "<Figure size 640x480 with 1 Axes>"
      ]
     },
     "metadata": {},
     "output_type": "display_data"
    }
   ],
   "source": [
    "plt.imshow(mnist_imgs_test[0][11]/255,cmap='gray')"
   ]
  },
  {
   "cell_type": "code",
   "execution_count": null,
   "metadata": {},
   "outputs": [],
   "source": []
  },
  {
   "cell_type": "code",
   "execution_count": null,
   "metadata": {},
   "outputs": [],
   "source": []
  },
  {
   "cell_type": "code",
   "execution_count": null,
   "metadata": {},
   "outputs": [],
   "source": []
  },
  {
   "cell_type": "code",
   "execution_count": null,
   "metadata": {},
   "outputs": [],
   "source": []
  },
  {
   "cell_type": "code",
   "execution_count": null,
   "metadata": {},
   "outputs": [],
   "source": []
  },
  {
   "cell_type": "code",
   "execution_count": 38,
   "metadata": {},
   "outputs": [],
   "source": [
    "mnist_imgs_train = torch.load('digit_MNIST_data/MNIST/processed/training.pt')\n",
    "mnist_imgs_test = torch.load('digit_MNIST_data/MNIST/processed/test.pt')"
   ]
  },
  {
   "cell_type": "code",
   "execution_count": 39,
   "metadata": {},
   "outputs": [
    {
     "data": {
      "text/plain": [
       "torch.Size([28, 28])"
      ]
     },
     "execution_count": 39,
     "metadata": {},
     "output_type": "execute_result"
    }
   ],
   "source": [
    "#mnist_imgs_train[0][2].shape"
   ]
  },
  {
   "cell_type": "code",
   "execution_count": 44,
   "metadata": {},
   "outputs": [],
   "source": [
    "#plt.imshow(mnist_imgs_train[0][2]/255,cmap='gray')\n",
    "#plt.colorbar()"
   ]
  },
  {
   "cell_type": "code",
   "execution_count": 43,
   "metadata": {},
   "outputs": [
    {
     "data": {
      "image/png": "[encoded data removed]",
      "text/plain": [
       "<Figure size 640x480 with 10 Axes>"
      ]
     },
     "metadata": {},
     "output_type": "display_data"
    }
   ],
   "source": [
    "fig, axes = plt.subplots(nrows=3, ncols=3,sharex=True, sharey=True)\n",
    "for i, ax in enumerate(axes.flat):\n",
    "    #print(i,ax)\n",
    "    im = ax.imshow(mnist_imgs_train[0][i]/255, vmin=0, vmax=1,cmap='gray')\n",
    "\n",
    "image = fig.colorbar(im, ax=axes.ravel().tolist())\n",
    "fig.suptitle('Example train images')\n",
    "plt.savefig('../figures/MNIST_train_im.jpg')#, image)\n",
    "plt.show()"
   ]
  },
  {
   "cell_type": "code",
   "execution_count": null,
   "metadata": {},
   "outputs": [],
   "source": []
  },
  {
   "cell_type": "code",
   "execution_count": null,
   "metadata": {},
   "outputs": [],
   "source": []
  },
  {
   "cell_type": "code",
   "execution_count": null,
   "metadata": {},
   "outputs": [],
   "source": []
  },
  {
   "cell_type": "code",
   "execution_count": null,
   "metadata": {},
   "outputs": [],
   "source": []
  },
  {
   "cell_type": "code",
   "execution_count": null,
   "metadata": {},
   "outputs": [],
   "source": []
  },
  {
   "cell_type": "code",
   "execution_count": null,
   "metadata": {},
   "outputs": [],
   "source": []
  },
  {
   "cell_type": "code",
   "execution_count": null,
   "metadata": {},
   "outputs": [],
   "source": []
  },
  {
   "cell_type": "code",
   "execution_count": null,
   "metadata": {},
   "outputs": [],
   "source": []
  },
  {
   "cell_type": "code",
   "execution_count": null,
   "metadata": {},
   "outputs": [],
   "source": []
  },
  {
   "cell_type": "code",
   "execution_count": null,
   "metadata": {},
   "outputs": [],
   "source": []
  },
  {
   "cell_type": "code",
   "execution_count": null,
   "metadata": {},
   "outputs": [],
   "source": []
  },
  {
   "cell_type": "code",
   "execution_count": null,
   "metadata": {},
   "outputs": [],
   "source": []
  },
  {
   "cell_type": "code",
   "execution_count": null,
   "metadata": {},
   "outputs": [],
   "source": []
  }
 ],
 "metadata": {
  "kernelspec": {
   "display_name": "Python 3.8.8 ('base')",
   "language": "python",
   "name": "python3"
  },
  "language_info": {
   "codemirror_mode": {
    "name": "ipython",
    "version": 3
   },
   "file_extension": ".py",
   "mimetype": "text/x-python",
   "name": "python",
   "nbconvert_exporter": "python",
   "pygments_lexer": "ipython3",
   "version": "3.8.8"
  },
  "orig_nbformat": 4,
  "vscode": {
   "interpreter": {
    "hash": "66db61a5b408cff93bead560114db52d0daceaa413e16f30cdafe3555bf06f98"
   }
  }
 },
 "nbformat": 4,
 "nbformat_minor": 2
}
