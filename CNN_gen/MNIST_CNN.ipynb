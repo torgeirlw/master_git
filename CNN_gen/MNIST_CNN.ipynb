{
 "cells": [
  {
   "cell_type": "code",
   "execution_count": 3,
   "metadata": {},
   "outputs": [],
   "source": [
    "import numpy as np\n",
    "import cv2\n",
    "import os\n",
    "import matplotlib.pyplot as plt"
   ]
  },
  {
   "cell_type": "code",
   "execution_count": 4,
   "metadata": {},
   "outputs": [],
   "source": [
    "import torch\n",
    "from torch import nn\n",
    "import PIL\n",
    "from torchvision import transforms\n",
    "from torchvision import datasets\n",
    "from torch.utils.data import Dataset, DataLoader\n",
    "from pathlib import Path"
   ]
  },
  {
   "cell_type": "code",
   "execution_count": 5,
   "metadata": {},
   "outputs": [],
   "source": [
    "assert torch.__version__=='1.8.1'"
   ]
  },
  {
   "cell_type": "code",
   "execution_count": 6,
   "metadata": {},
   "outputs": [
    {
     "data": {
      "text/plain": [
       "<torch._C.Generator at 0x7ff95569eaf0>"
      ]
     },
     "execution_count": 6,
     "metadata": {},
     "output_type": "execute_result"
    }
   ],
   "source": [
    "np.random.seed(0)\n",
    "torch.manual_seed(0)"
   ]
  },
  {
   "cell_type": "markdown",
   "metadata": {},
   "source": [
    "#### input shape [batch, H, W, C=1]\n",
    "#### output shape [batch, H, W, 3 * nr mix]"
   ]
  },
  {
   "cell_type": "code",
   "execution_count": 7,
   "metadata": {},
   "outputs": [],
   "source": [
    "trainset = datasets.FashionMNIST('MNIST_data/', download = True, train = True, transform = transforms.ToTensor())\n",
    "testset = datasets.FashionMNIST('MNIST_data/', download = True, train = False, transform = transforms.ToTensor())"
   ]
  },
  {
   "cell_type": "code",
   "execution_count": 8,
   "metadata": {},
   "outputs": [],
   "source": [
    "train_loader = torch.utils.data.DataLoader(trainset, batch_size=64)\n",
    "test_loader = torch.utils.data.DataLoader(testset,batch_size=64)"
   ]
  },
  {
   "cell_type": "code",
   "execution_count": 9,
   "metadata": {},
   "outputs": [],
   "source": [
    "# masked CNN\n",
    "class MaskedConv2d(nn.Conv2d):\n",
    "    def __init__(self, mask_type, *args, **kwargs):\n",
    "        super(MaskedConv2d, self).__init__(*args, **kwargs)\n",
    "        assert mask_type in {'A', 'B'}\n",
    "        self.register_buffer('mask', self.weight.data.clone())\n",
    "        _, _, kH, kW = self.weight.size()\n",
    "        self.mask.fill_(1)\n",
    "        self.mask[:, :, kH // 2, kW // 2 + (mask_type == 'B'):] = 0\n",
    "        self.mask[:, :, kH // 2 + 1:] = 0\n",
    "\n",
    "    def forward(self, x):\n",
    "        self.weight.data *= self.mask\n",
    "        return super(MaskedConv2d, self).forward(x)"
   ]
  },
  {
   "cell_type": "code",
   "execution_count": 10,
   "metadata": {},
   "outputs": [],
   "source": [
    "# model\n",
    "class PixelCNN(nn.Module):\n",
    "    n_channels = 4\n",
    "    kernel_size = 7\n",
    "    padding = 3\n",
    "    #n_pixels_out = 2 # binary 0/1 pixels\n",
    "    #nr_mix\n",
    "    \n",
    "    def __init__(self, nr_mix):\n",
    "        super(PixelCNN, self).__init__()\n",
    "        self.nr_mix = nr_mix\n",
    "        self.layers = nn.Sequential(\n",
    "            MaskedConv2d('A', in_channels=1, out_channels=self.n_channels, kernel_size=self.kernel_size, padding=self.padding, bias=False), nn.BatchNorm2d(self.n_channels), nn.ReLU(True),\n",
    "            MaskedConv2d('B', self.n_channels, self.n_channels, kernel_size=self.kernel_size, padding=self.padding, bias=False), nn.BatchNorm2d(self.n_channels), nn.ReLU(True),\n",
    "            MaskedConv2d('B', self.n_channels, self.n_channels, kernel_size=self.kernel_size, padding=self.padding, bias=False), nn.BatchNorm2d(self.n_channels), nn.ReLU(True),\n",
    "            nn.Conv2d(in_channels=self.n_channels, out_channels=3*self.nr_mix, kernel_size=1)\n",
    "        )\n",
    "        \n",
    "    def forward(self, x):\n",
    "        x = self.layers(x) # shape  = [batch, 3*nr_mix, H, W]\n",
    "        softmax = nn.Softmax(dim=1)\n",
    "        softplus = nn.Softplus()\n",
    "        sigmoid = nn.Sigmoid()\n",
    "\n",
    "        mu =  x[:, :self.nr_mix, :, :]\n",
    "        var = x[:, self.nr_mix:2*self.nr_mix, :, :]\n",
    "        pi_mix = x[:, 2*self.nr_mix:3*self.nr_mix, :, :]\n",
    "        \n",
    "        mus = torch.empty(mu.shape)\n",
    "        mus[:, 0, :, :] = mu[:, 0, :, :]\n",
    "        for i in range(2, self.nr_mix):\n",
    "            mus[:, i, :, :] = mus[:, i-1, :, :] + softplus(mu[:, i, :, :])\n",
    "\n",
    "        mus = sigmoid(mus)\n",
    "        var = softplus(var)\n",
    "        var = torch.clamp(var, min=0.00000001)\n",
    "        pi_mix = softmax(pi_mix)\n",
    "        \n",
    "        x = torch.cat((mus, var, pi_mix), dim=1)\n",
    "\n",
    "        return x\n"
   ]
  },
  {
   "cell_type": "code",
   "execution_count": 12,
   "metadata": {},
   "outputs": [],
   "source": [
    "def Mixture_Gauss_NLLLoss(target, pred): # mu, sigma, pi_mix):\n",
    "    total_lik = 0#torch.zeros(target[:,0,:,:].shape)\n",
    "    loss_func  = nn.GaussianNLLLoss(full=False, reduction='none')\n",
    "    #sigma = torch.clamp(sigma, 0.000001)\n",
    "    nr_mix = int(pred.shape[1]/3)\n",
    "    \n",
    "    mu =  pred[:, :nr_mix, :, :]\n",
    "    var = pred[:, nr_mix:2*nr_mix, :, :]\n",
    "    pi_mix = pred[:, 2*nr_mix:3*nr_mix, :, :]\n",
    "    var = torch.clamp(var,min=0.0000001)\n",
    "\n",
    "    for i in range(nr_mix):\n",
    "\n",
    "        loss = loss_func(torch.flatten(mu[:,i,:,:]), torch.flatten(target[:,0,:,:]), torch.flatten(var[:,i,:,:]))\n",
    "        #print(loss.shape)\n",
    "        likelihood = torch.exp(-loss)\n",
    "        #print(target[:,0,:,:].shape)\n",
    "        #print(likelihood.shape)\n",
    "        #print(pi_mix[:,i,:,:].shape)\n",
    "        #print(torch.flatten(pi_mix[:,i,:,:]).shape)\n",
    "        total_lik += torch.flatten(pi_mix[:,i,:,:])*likelihood #sum , mean????\n",
    "\n",
    "    \n",
    "    gauss_mix_loss = torch.log(torch.clamp(total_lik, min=0.00000001))\n",
    "    \n",
    "    return -gauss_mix_loss.mean() "
   ]
  },
  {
   "cell_type": "code",
   "execution_count": 13,
   "metadata": {},
   "outputs": [],
   "source": [
    "#loss func\n",
    "pixel_cnn = PixelCNN(nr_mix=3)\n",
    "loss_function  = Mixture_Gauss_NLLLoss\n",
    "optimizer = torch.optim.Adam(pixel_cnn.parameters(), lr=0.0005)"
   ]
  },
  {
   "cell_type": "code",
   "execution_count": 255,
   "metadata": {},
   "outputs": [],
   "source": [
    "epochs = 20\n",
    "loss_vals_train = []\n",
    "loss_vals_test = []"
   ]
  },
  {
   "cell_type": "code",
   "execution_count": 257,
   "metadata": {},
   "outputs": [],
   "source": [
    "#torch.autograd.set_detect_anomaly(False)"
   ]
  },
  {
   "cell_type": "code",
   "execution_count": 258,
   "metadata": {},
   "outputs": [
    {
     "name": "stdout",
     "output_type": "stream",
     "text": [
      "Starting epoch 1\n",
      "Loss after mini-batch     1: -0.704\n",
      "Val Loss after mini-batch     1: -1.581\n",
      "Starting epoch 2\n",
      "Loss after mini-batch     2: -3.935\n",
      "Val Loss after mini-batch     2: -4.016\n",
      "Starting epoch 3\n",
      "Loss after mini-batch     3: -4.109\n",
      "Val Loss after mini-batch     3: -4.051\n",
      "Starting epoch 4\n",
      "Loss after mini-batch     4: -4.137\n",
      "Val Loss after mini-batch     4: -4.065\n",
      "Starting epoch 5\n",
      "Loss after mini-batch     5: -4.157\n",
      "Val Loss after mini-batch     5: -4.057\n",
      "Starting epoch 6\n",
      "Loss after mini-batch     6: -4.177\n",
      "Val Loss after mini-batch     6: -4.043\n",
      "Starting epoch 7\n",
      "Loss after mini-batch     7: -4.192\n",
      "Val Loss after mini-batch     7: -4.044\n",
      "Starting epoch 8\n",
      "Loss after mini-batch     8: -4.202\n",
      "Val Loss after mini-batch     8: -4.048\n",
      "Starting epoch 9\n",
      "Loss after mini-batch     9: -4.210\n",
      "Val Loss after mini-batch     9: -4.054\n",
      "Starting epoch 10\n",
      "Loss after mini-batch    10: -4.216\n",
      "Val Loss after mini-batch    10: -4.068\n",
      "Starting epoch 11\n",
      "Loss after mini-batch    11: -4.222\n",
      "Val Loss after mini-batch    11: -4.082\n",
      "Starting epoch 12\n",
      "Loss after mini-batch    12: -4.228\n",
      "Val Loss after mini-batch    12: -4.090\n",
      "Starting epoch 13\n",
      "Loss after mini-batch    13: -4.233\n",
      "Val Loss after mini-batch    13: -4.095\n",
      "Starting epoch 14\n",
      "Loss after mini-batch    14: -4.238\n",
      "Val Loss after mini-batch    14: -4.097\n",
      "Starting epoch 15\n",
      "Loss after mini-batch    15: -4.242\n",
      "Val Loss after mini-batch    15: -4.101\n",
      "Starting epoch 16\n",
      "Loss after mini-batch    16: -4.247\n",
      "Val Loss after mini-batch    16: -4.104\n",
      "Starting epoch 17\n",
      "Loss after mini-batch    17: -4.251\n",
      "Val Loss after mini-batch    17: -4.108\n",
      "Starting epoch 18\n",
      "Loss after mini-batch    18: -4.254\n",
      "Val Loss after mini-batch    18: -4.099\n",
      "Starting epoch 19\n",
      "Loss after mini-batch    19: -4.257\n",
      "Val Loss after mini-batch    19: -4.104\n",
      "Starting epoch 20\n",
      "Loss after mini-batch    20: -4.259\n",
      "Val Loss after mini-batch    20: -4.100\n",
      "Training process has finished.\n"
     ]
    }
   ],
   "source": [
    "for e in range(epochs): # 5 epochs at maximum\n",
    "    #torch.autograd.detect_anomaly()\n",
    "    # Print epoch\n",
    "    print(f'Starting epoch {e+1}')\n",
    "    \n",
    "    # Set current loss value\n",
    "    current_loss = 0.0\n",
    "\n",
    "    for im, _ in train_loader:\n",
    "        # Zero the gradients\n",
    "        optimizer.zero_grad()\n",
    "\n",
    "        pred_mix = pixel_cnn(im)\n",
    "\n",
    "        loss = loss_function(im, pred_mix)\n",
    "\n",
    "        # Perform backward pass\n",
    "        loss.backward()\n",
    "        # Perform optimization\n",
    "        optimizer.step()\n",
    "        # Print statistics\n",
    "        current_loss += loss.item()\n",
    "\n",
    "    print('Loss after mini-batch %5d: %.3f' %\n",
    "                (e + 1, current_loss / len(train_loader)))    \n",
    "    \n",
    "    validation_loss = 0.0\n",
    "    pixel_cnn.eval()\n",
    "    for im, _ in test_loader:\n",
    "        pred_mix = pixel_cnn(im)\n",
    "        loss_val = loss_function(im, pred_mix)\n",
    "        validation_loss += loss_val.item()\n",
    "\n",
    "    print('Val Loss after mini-batch %5d: %.3f' %\n",
    "                (e + 1, validation_loss / len(test_loader)))\n",
    "\n",
    "    # Process is complete.\n",
    "    loss_vals_train.append(current_loss/len(train_loader))\n",
    "    loss_vals_test.append(validation_loss/len(test_loader))\n",
    "\n",
    "print('Training process has finished.')"
   ]
  },
  {
   "cell_type": "code",
   "execution_count": 309,
   "metadata": {},
   "outputs": [],
   "source": [
    "torch.save(pixel_cnn.state_dict(), 'pixel_cnn_test.pt')"
   ]
  },
  {
   "cell_type": "code",
   "execution_count": 14,
   "metadata": {},
   "outputs": [
    {
     "data": {
      "text/plain": [
       "PixelCNN(\n",
       "  (layers): Sequential(\n",
       "    (0): MaskedConv2d(1, 4, kernel_size=(7, 7), stride=(1, 1), padding=(3, 3), bias=False)\n",
       "    (1): BatchNorm2d(4, eps=1e-05, momentum=0.1, affine=True, track_running_stats=True)\n",
       "    (2): ReLU(inplace=True)\n",
       "    (3): MaskedConv2d(4, 4, kernel_size=(7, 7), stride=(1, 1), padding=(3, 3), bias=False)\n",
       "    (4): BatchNorm2d(4, eps=1e-05, momentum=0.1, affine=True, track_running_stats=True)\n",
       "    (5): ReLU(inplace=True)\n",
       "    (6): MaskedConv2d(4, 4, kernel_size=(7, 7), stride=(1, 1), padding=(3, 3), bias=False)\n",
       "    (7): BatchNorm2d(4, eps=1e-05, momentum=0.1, affine=True, track_running_stats=True)\n",
       "    (8): ReLU(inplace=True)\n",
       "    (9): Conv2d(4, 9, kernel_size=(1, 1), stride=(1, 1))\n",
       "  )\n",
       ")"
      ]
     },
     "execution_count": 14,
     "metadata": {},
     "output_type": "execute_result"
    }
   ],
   "source": [
    "pixel_cnn.load_state_dict(torch.load('pixel_cnn_test.pt'))\n",
    "pixel_cnn.eval()"
   ]
  },
  {
   "cell_type": "code",
   "execution_count": 259,
   "metadata": {},
   "outputs": [
    {
     "data": {
      "text/plain": [
       "Text(0.5, 1.0, 'loss')"
      ]
     },
     "execution_count": 259,
     "metadata": {},
     "output_type": "execute_result"
    },
    {
     "data": {
      "image/png": "[encoded data removed]",
      "text/plain": [
       "<Figure size 640x480 with 1 Axes>"
      ]
     },
     "metadata": {},
     "output_type": "display_data"
    }
   ],
   "source": [
    "plt.plot(range(len(loss_vals_train)),loss_vals_train)\n",
    "plt.plot(range(len(loss_vals_test)),loss_vals_test)\n",
    "plt.title('loss')"
   ]
  },
  {
   "cell_type": "code",
   "execution_count": 15,
   "metadata": {},
   "outputs": [
    {
     "name": "stderr",
     "output_type": "stream",
     "text": [
      "/Users/Torgeir/opt/anaconda3/lib/python3.8/site-packages/scipy/__init__.py:146: UserWarning: A NumPy version >=1.16.5 and <1.23.0 is required for this version of SciPy (detected version 1.23.1\n",
      "  warnings.warn(f\"A NumPy version >={np_minversion} and <{np_maxversion}\"\n"
     ]
    }
   ],
   "source": [
    "from scipy.stats import truncnorm"
   ]
  },
  {
   "cell_type": "code",
   "execution_count": 16,
   "metadata": {},
   "outputs": [],
   "source": [
    "fashion_imgs_train = torch.load('MNIST_data/FashionMNIST/processed/training.pt')\n",
    "fashion_imgs_test = torch.load('MNIST_data/FashionMNIST/processed/test.pt')"
   ]
  },
  {
   "cell_type": "code",
   "execution_count": 155,
   "metadata": {},
   "outputs": [
    {
     "data": {
      "text/plain": [
       "torch.Size([1, 28, 28])"
      ]
     },
     "execution_count": 155,
     "metadata": {},
     "output_type": "execute_result"
    }
   ],
   "source": [
    "fashion_imgs_test[0][2:3].shape"
   ]
  },
  {
   "cell_type": "code",
   "execution_count": 37,
   "metadata": {},
   "outputs": [],
   "source": [
    "def gen_im_mix_trunc(model, im_size, nbh_size):\n",
    "    m, n = nbh_size\n",
    "    \n",
    "    #new_im = np.zeros(im_size)\n",
    "    #new_im = torch.zeros(im_size)\n",
    "    #new_im = torch.full(im_size, 100.0)\n",
    "    #new_im = torch.randint(low=50, high=150, size=im_size,dtype=torch.float)\n",
    "    \n",
    "    #new_im = torch.rand(im_size)-0.5 # prøv med 0.5\n",
    "    #new_im = torch.full(im_size,0.5)\n",
    "    pred_mu = np.zeros(im_size)\n",
    "    pred_sigma2 = np.zeros(im_size)\n",
    "    pred_mu2 = np.zeros(im_size)\n",
    "    pred_sigma2_2 = np.zeros(im_size)\n",
    "    pred_pi_mix = np.zeros(im_size)\n",
    "\n",
    "    new_im = torch.unsqueeze(fashion_imgs_test[0][2:3]/255, dim=0) #- 0.5)\n",
    "    #new_im = torch.zeros((1,1,28,28))\n",
    "\n",
    "    \n",
    "    for i in range(10, im_size[0]):\n",
    "        for j in range(0, im_size[1]):\n",
    "            \n",
    "            \n",
    "            output = model(new_im)\n",
    "\n",
    "           \n",
    "            pi_mix_output = output[0,6:,i,j]\n",
    "            mu_output = output[0,0:3,i,j]\n",
    "            sigma2_output = output[0,3:6,i,j]\n",
    "            \n",
    "            \n",
    "            pi_mix_sample = np.random.choice(3, 1, p=pi_mix_output.detach().numpy())[0]\n",
    "            \n",
    "            myclip_a = 0.0\n",
    "            myclip_b = 1\n",
    "            my_mean = mu_output[pi_mix_sample].detach().numpy()\n",
    "            my_std = np.sqrt(sigma2_output[pi_mix_sample].detach().numpy())\n",
    "\n",
    "            a, b = (myclip_a - my_mean) / my_std, (myclip_b - my_mean) / my_std\n",
    "            sample_trunc = truncnorm.rvs(a, b,loc=my_mean,scale=my_std, size=1)\n",
    "            #new_im[:,:,i,j] = torch.from_numpy(sample_trunc)\n",
    "\n",
    "            \n",
    "            pred_mu[i,j] = mu_output[0]\n",
    "            pred_sigma2[i,j] = sigma2_output[0]\n",
    "\n",
    "            pred_mu2[i,j] = mu_output[1]\n",
    "            pred_sigma2_2[i,j] = sigma2_output[1]\n",
    "            pred_pi_mix[i,j] = pi_mix_output[0]\n",
    "    \n",
    "    \n",
    "    return new_im, pred_mu, pred_mu2, pred_sigma2, pred_sigma2_2, pred_pi_mix"
   ]
  },
  {
   "cell_type": "code",
   "execution_count": 202,
   "metadata": {},
   "outputs": [
    {
     "name": "stdout",
     "output_type": "stream",
     "text": [
      "dndndndnddn\n"
     ]
    },
    {
     "data": {
      "text/plain": [
       "torch.Size([1, 1, 28, 28])"
      ]
     },
     "execution_count": 202,
     "metadata": {},
     "output_type": "execute_result"
    }
   ],
   "source": [
    "gen_im_mix_trunc(pixel_cnn, (28,28), (4,4))[0].shape"
   ]
  },
  {
   "cell_type": "code",
   "execution_count": 38,
   "metadata": {},
   "outputs": [],
   "source": [
    "new_im, pred_mu, pred_mu2, pred_sigma2, pred_sigma2_2, pred_pi_mix = gen_im_mix_trunc(pixel_cnn, (28,28), (4,4))"
   ]
  },
  {
   "cell_type": "code",
   "execution_count": 39,
   "metadata": {},
   "outputs": [
    {
     "data": {
      "text/plain": [
       "<matplotlib.colorbar.Colorbar at 0x7ff9412bfcd0>"
      ]
     },
     "execution_count": 39,
     "metadata": {},
     "output_type": "execute_result"
    },
    {
     "data": {
      "image/png": "[encoded data removed]",
      "text/plain": [
       "<Figure size 640x480 with 2 Axes>"
      ]
     },
     "metadata": {},
     "output_type": "display_data"
    }
   ],
   "source": [
    "plt.imshow(new_im[0,0],cmap='gray')\n",
    "plt.colorbar()"
   ]
  },
  {
   "cell_type": "code",
   "execution_count": 40,
   "metadata": {},
   "outputs": [
    {
     "data": {
      "text/plain": [
       "<matplotlib.colorbar.Colorbar at 0x7ff942f80100>"
      ]
     },
     "execution_count": 40,
     "metadata": {},
     "output_type": "execute_result"
    },
    {
     "data": {
      "image/png": "[encoded data removed]",
      "text/plain": [
       "<Figure size 640x480 with 2 Axes>"
      ]
     },
     "metadata": {},
     "output_type": "display_data"
    }
   ],
   "source": [
    "plt.imshow(pred_mu,cmap='gray')\n",
    "plt.colorbar()"
   ]
  },
  {
   "cell_type": "code",
   "execution_count": 41,
   "metadata": {},
   "outputs": [
    {
     "data": {
      "text/plain": [
       "<matplotlib.colorbar.Colorbar at 0x7ff94146bdc0>"
      ]
     },
     "execution_count": 41,
     "metadata": {},
     "output_type": "execute_result"
    },
    {
     "data": {
      "image/png": "[encoded data removed]",
      "text/plain": [
       "<Figure size 640x480 with 2 Axes>"
      ]
     },
     "metadata": {},
     "output_type": "display_data"
    }
   ],
   "source": [
    "plt.imshow(pred_mu2,cmap='gray')\n",
    "plt.colorbar()"
   ]
  },
  {
   "cell_type": "code",
   "execution_count": 42,
   "metadata": {},
   "outputs": [
    {
     "data": {
      "text/plain": [
       "<matplotlib.colorbar.Colorbar at 0x7ff941230e20>"
      ]
     },
     "execution_count": 42,
     "metadata": {},
     "output_type": "execute_result"
    },
    {
     "data": {
      "image/png": "[encoded data removed]",
      "text/plain": [
       "<Figure size 640x480 with 2 Axes>"
      ]
     },
     "metadata": {},
     "output_type": "display_data"
    }
   ],
   "source": [
    "plt.imshow(pred_sigma2,cmap='gray')\n",
    "plt.colorbar()"
   ]
  },
  {
   "cell_type": "code",
   "execution_count": 43,
   "metadata": {},
   "outputs": [
    {
     "data": {
      "text/plain": [
       "<matplotlib.colorbar.Colorbar at 0x7ff94349e4f0>"
      ]
     },
     "execution_count": 43,
     "metadata": {},
     "output_type": "execute_result"
    },
    {
     "data": {
      "image/png": "[encoded data removed]",
      "text/plain": [
       "<Figure size 640x480 with 2 Axes>"
      ]
     },
     "metadata": {},
     "output_type": "display_data"
    }
   ],
   "source": [
    "plt.imshow(pred_sigma2_2,cmap='gray')\n",
    "plt.colorbar()"
   ]
  },
  {
   "cell_type": "code",
   "execution_count": null,
   "metadata": {},
   "outputs": [],
   "source": []
  },
  {
   "cell_type": "code",
   "execution_count": 194,
   "metadata": {},
   "outputs": [
    {
     "data": {
      "text/plain": [
       "torch.Size([2])"
      ]
     },
     "execution_count": 194,
     "metadata": {},
     "output_type": "execute_result"
    }
   ],
   "source": [
    "pixel_cnn(torch.unsqueeze(fashion_imgs_test[0][4:5]/255, dim=0))[0,3:5,4,5].shape"
   ]
  }
 ],
 "metadata": {
  "kernelspec": {
   "display_name": "Python 3.8.8",
   "language": "python",
   "name": "python3"
  },
  "language_info": {
   "codemirror_mode": {
    "name": "ipython",
    "version": 3
   },
   "file_extension": ".py",
   "mimetype": "text/x-python",
   "name": "python",
   "nbconvert_exporter": "python",
   "pygments_lexer": "ipython3",
   "version": "3.8.8"
  },
  "orig_nbformat": 4,
  "vscode": {
   "interpreter": {
    "hash": "66db61a5b408cff93bead560114db52d0daceaa413e16f30cdafe3555bf06f98"
   }
  }
 },
 "nbformat": 4,
 "nbformat_minor": 2
}
