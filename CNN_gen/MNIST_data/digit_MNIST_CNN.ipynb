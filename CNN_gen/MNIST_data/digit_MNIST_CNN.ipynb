{
 "cells": [
  {
   "cell_type": "code",
   "execution_count": 2,
   "metadata": {},
   "outputs": [],
   "source": [
    "import numpy as np\n",
    "import cv2\n",
    "import os\n",
    "import matplotlib.pyplot as plt"
   ]
  },
  {
   "cell_type": "code",
   "execution_count": 3,
   "metadata": {},
   "outputs": [],
   "source": [
    "import torch\n",
    "from torch import nn\n",
    "import PIL\n",
    "from torchvision import transforms\n",
    "from torchvision import datasets\n",
    "from torch.utils.data import Dataset, DataLoader\n",
    "from pathlib import Path"
   ]
  },
  {
   "cell_type": "code",
   "execution_count": 4,
   "metadata": {},
   "outputs": [],
   "source": [
    "assert torch.__version__=='1.8.1'"
   ]
  },
  {
   "cell_type": "code",
   "execution_count": 5,
   "metadata": {},
   "outputs": [
    {
     "data": {
      "text/plain": [
       "<torch._C.Generator at 0x7fb67f74e7d0>"
      ]
     },
     "execution_count": 5,
     "metadata": {},
     "output_type": "execute_result"
    }
   ],
   "source": [
    "np.random.seed(0)\n",
    "torch.manual_seed(0)"
   ]
  },
  {
   "cell_type": "code",
   "execution_count": 6,
   "metadata": {},
   "outputs": [
    {
     "name": "stdout",
     "output_type": "stream",
     "text": [
      "Downloading http://yann.lecun.com/exdb/mnist/train-images-idx3-ubyte.gz to digit_MNIST_data/MNIST/raw/train-images-idx3-ubyte.gz\n"
     ]
    },
    {
     "data": {
      "application/vnd.jupyter.widget-view+json": {
       "model_id": "1ce54e3e3e2c4404b8436cac97a41662",
       "version_major": 2,
       "version_minor": 0
      },
      "text/plain": [
       "0it [00:00, ?it/s]"
      ]
     },
     "metadata": {},
     "output_type": "display_data"
    },
    {
     "name": "stdout",
     "output_type": "stream",
     "text": [
      "Extracting digit_MNIST_data/MNIST/raw/train-images-idx3-ubyte.gz\n",
      "Downloading http://yann.lecun.com/exdb/mnist/train-labels-idx1-ubyte.gz to digit_MNIST_data/MNIST/raw/train-labels-idx1-ubyte.gz\n"
     ]
    },
    {
     "data": {
      "application/vnd.jupyter.widget-view+json": {
       "model_id": "13de239b251f428aa7505340b13f7940",
       "version_major": 2,
       "version_minor": 0
      },
      "text/plain": [
       "0it [00:00, ?it/s]"
      ]
     },
     "metadata": {},
     "output_type": "display_data"
    },
    {
     "name": "stdout",
     "output_type": "stream",
     "text": [
      "Extracting digit_MNIST_data/MNIST/raw/train-labels-idx1-ubyte.gz\n",
      "Downloading http://yann.lecun.com/exdb/mnist/t10k-images-idx3-ubyte.gz to digit_MNIST_data/MNIST/raw/t10k-images-idx3-ubyte.gz\n"
     ]
    },
    {
     "data": {
      "application/vnd.jupyter.widget-view+json": {
       "model_id": "898a8526516c4e2aaa0cf5ee85033fd8",
       "version_major": 2,
       "version_minor": 0
      },
      "text/plain": [
       "0it [00:00, ?it/s]"
      ]
     },
     "metadata": {},
     "output_type": "display_data"
    },
    {
     "name": "stdout",
     "output_type": "stream",
     "text": [
      "Extracting digit_MNIST_data/MNIST/raw/t10k-images-idx3-ubyte.gz\n",
      "Downloading http://yann.lecun.com/exdb/mnist/t10k-labels-idx1-ubyte.gz to digit_MNIST_data/MNIST/raw/t10k-labels-idx1-ubyte.gz\n"
     ]
    },
    {
     "data": {
      "application/vnd.jupyter.widget-view+json": {
       "model_id": "3f6d38d5d0704530898f581ee40623f6",
       "version_major": 2,
       "version_minor": 0
      },
      "text/plain": [
       "0it [00:00, ?it/s]"
      ]
     },
     "metadata": {},
     "output_type": "display_data"
    },
    {
     "name": "stdout",
     "output_type": "stream",
     "text": [
      "Extracting digit_MNIST_data/MNIST/raw/t10k-labels-idx1-ubyte.gz\n",
      "Processing...\n"
     ]
    },
    {
     "name": "stderr",
     "output_type": "stream",
     "text": [
      "/Users/Torgeir/opt/anaconda3/lib/python3.8/site-packages/torchvision/datasets/mnist.py:335: UserWarning: The given NumPy array is not writeable, and PyTorch does not support non-writeable tensors. This means you can write to the underlying (supposedly non-writeable) NumPy array using the tensor. You may want to copy the array to protect its data or make it writeable before converting it to a tensor. This type of warning will be suppressed for the rest of this program. (Triggered internally at  /Users/distiller/project/conda/conda-bld/pytorch_1616554845587/work/torch/csrc/utils/tensor_numpy.cpp:143.)\n",
      "  return torch.from_numpy(parsed).view(length, num_rows, num_cols)\n"
     ]
    },
    {
     "name": "stdout",
     "output_type": "stream",
     "text": [
      "Done!\n"
     ]
    }
   ],
   "source": [
    "trainset = datasets.MNIST('digit_MNIST_data/', download = True, train = True, transform = transforms.ToTensor())\n",
    "testset = datasets.MNIST('digit_MNIST_data/', download = True, train = False, transform = transforms.ToTensor())"
   ]
  },
  {
   "cell_type": "code",
   "execution_count": 7,
   "metadata": {},
   "outputs": [],
   "source": [
    "train_loader = torch.utils.data.DataLoader(trainset, batch_size=64)\n",
    "test_loader = torch.utils.data.DataLoader(testset,batch_size=64)"
   ]
  },
  {
   "cell_type": "code",
   "execution_count": 8,
   "metadata": {},
   "outputs": [],
   "source": [
    "class MaskedConv2d(nn.Conv2d):\n",
    "    #sourc: https://github.com/pilipolio/learn-pytorch/blob/master/201708_IconPixelCNN.ipynb\n",
    "    def __init__(self, mask_type, *args, **kwargs):\n",
    "        super(MaskedConv2d, self).__init__(*args, **kwargs)\n",
    "        assert mask_type in {'A', 'B'}\n",
    "        self.register_buffer('mask', self.weight.data.clone())\n",
    "        _, _, kH, kW = self.weight.size()\n",
    "        self.mask.fill_(1)\n",
    "        self.mask[:, :, kH // 2, kW // 2 + (mask_type == 'B'):] = 0\n",
    "        self.mask[:, :, kH // 2 + 1:] = 0\n",
    "\n",
    "    def forward(self, x):\n",
    "        self.weight.data *= self.mask\n",
    "        return super(MaskedConv2d, self).forward(x)"
   ]
  },
  {
   "cell_type": "code",
   "execution_count": 33,
   "metadata": {},
   "outputs": [],
   "source": [
    "class PixelCNN(nn.Module):\n",
    "    n_channels = 10\n",
    "    kernel_size = 3\n",
    "    padding = 1\n",
    "    #n_pixels_out = 2 # binary 0/1 pixels\n",
    "    #nr_mix\n",
    "    \n",
    "    def __init__(self, nr_mix):\n",
    "        super(PixelCNN, self).__init__()\n",
    "        self.nr_mix = nr_mix\n",
    "        \"\"\"self.layers = nn.Sequential(\n",
    "            MaskedConv2d('A', in_channels=1, out_channels=self.n_channels, kernel_size=self.kernel_size, padding=self.padding, bias=True), nn.BatchNorm2d(self.n_channels), nn.ReLU(True),\n",
    "            MaskedConv2d('B', self.n_channels, self.n_channels, kernel_size=self.kernel_size, padding=self.padding, bias=True), nn.BatchNorm2d(self.n_channels), nn.ReLU(True),\n",
    "            MaskedConv2d('B', self.n_channels, self.n_channels//2, kernel_size=self.kernel_size, padding=self.padding, bias=True), nn.BatchNorm2d(self.n_channels), nn.ReLU(True),\n",
    "            MaskedConv2d('B', self.n_channels//2, self.n_channels, kernel_size=self.kernel_size, padding=self.padding, bias=True), nn.BatchNorm2d(self.n_channels), nn.ReLU(True),\n",
    "            MaskedConv2d('B', self.n_channels, self.n_channels, kernel_size=self.kernel_size, padding=self.padding, bias=True), nn.BatchNorm2d(self.n_channels), nn.ReLU(True),\n",
    "            nn.Conv2d(in_channels=self.n_channels, out_channels=3*self.nr_mix, kernel_size=1)\n",
    "        )\"\"\"\n",
    "        \n",
    "        self.layer1 = nn.Sequential(MaskedConv2d('A', in_channels=1, out_channels=self.n_channels, kernel_size=self.kernel_size, padding=self.padding, bias=True), nn.BatchNorm2d(self.n_channels), nn.ReLU(True))\n",
    "        self.layer2 = nn.Sequential(MaskedConv2d('B', self.n_channels, self.n_channels, kernel_size=self.kernel_size, padding=self.padding, bias=True), nn.BatchNorm2d(self.n_channels), nn.ReLU(True))\n",
    "        self.layer3 = nn.Sequential(MaskedConv2d('B', self.n_channels, self.n_channels//2, kernel_size=self.kernel_size, padding=self.padding, bias=True), nn.BatchNorm2d(self.n_channels//2), nn.ReLU(True))\n",
    "        self.layer4 = nn.Sequential(MaskedConv2d('B', self.n_channels//2, self.n_channels, kernel_size=self.kernel_size, padding=self.padding, bias=True), nn.BatchNorm2d(self.n_channels), nn.ReLU(True))\n",
    "        #self.layer5 = nn.Sequential(MaskedConv2d('B', self.n_channels, self.n_channels, kernel_size=self.kernel_size, padding=self.padding, bias=True), nn.BatchNorm2d(self.n_channels), nn.ReLU(True))\n",
    "        self.layer6 = nn.Sequential(nn.Conv2d(in_channels=self.n_channels, out_channels=3*self.nr_mix, kernel_size=1))\n",
    "        \n",
    "        \n",
    "        \n",
    "    def forward(self, x):\n",
    "        #x = self.layers(x) # shape  = [batch, 3*nr_mix, H, W]\n",
    "        x = self.layer1(x)\n",
    "        x = self.layer2(x)  \n",
    "        residual = x\n",
    "        x = self.layer3(x) \n",
    "        x = self.layer4(x) \n",
    "        \n",
    "        #x = self.layer5(x) \n",
    "        x = x + residual   \n",
    "        x = self.layer6(x)\n",
    "\n",
    "        softmax = nn.Softmax(dim=1)\n",
    "        softplus = nn.Softplus()\n",
    "        sigmoid = nn.Sigmoid()\n",
    "\n",
    "        mu =  x[:, :self.nr_mix, :, :]\n",
    "        var = x[:, self.nr_mix:2*self.nr_mix, :, :]\n",
    "        pi_mix = x[:, 2*self.nr_mix:3*self.nr_mix, :, :]\n",
    "        \n",
    "        mus = torch.empty(mu.shape)\n",
    "        mus[:, 0, :, :] = mu[:, 0, :, :]\n",
    "        for i in range(1, self.nr_mix):\n",
    "            mus[:, i, :, :] = mus[:, i-1, :, :] + softplus(mu[:, i, :, :])\n",
    "\n",
    "        mus = sigmoid(mus)\n",
    "        var = softplus(var)\n",
    "        var = torch.clamp(var, min=0.00000001)\n",
    "        pi_mix = softmax(pi_mix)\n",
    "        \n",
    "        x = torch.cat((mus, var, pi_mix), dim=1)\n",
    "\n",
    "        return x"
   ]
  },
  {
   "cell_type": "code",
   "execution_count": 15,
   "metadata": {},
   "outputs": [],
   "source": [
    "def Mixture_Gauss_NLLLoss(target, pred): # mu, sigma, pi_mix):\n",
    "    total_lik = 0#torch.zeros(target[:,0,:,:].shape)\n",
    "    loss_func  = nn.GaussianNLLLoss(full=False, reduction='none')\n",
    "    #sigma = torch.clamp(sigma, 0.000001)\n",
    "    nr_mix = int(pred.shape[1]/3)\n",
    "    \n",
    "    mu =  pred[:, :nr_mix, :, :]\n",
    "    var = pred[:, nr_mix:2*nr_mix, :, :]\n",
    "    pi_mix = pred[:, 2*nr_mix:3*nr_mix, :, :]\n",
    "    var = torch.clamp(var,min=0.0000001)\n",
    "\n",
    "    for i in range(nr_mix):\n",
    "\n",
    "        loss = loss_func(torch.flatten(mu[:,i,:,:]), torch.flatten(target[:,0,:,:]), torch.flatten(var[:,i,:,:]))\n",
    "        #print(loss.shape)\n",
    "        likelihood = torch.exp(-loss)\n",
    "        #print(target[:,0,:,:].shape)\n",
    "        #print(likelihood.shape)\n",
    "        #print(pi_mix[:,i,:,:].shape)\n",
    "        #print(torch.flatten(pi_mix[:,i,:,:]).shape)\n",
    "        total_lik += torch.flatten(pi_mix[:,i,:,:])*likelihood #sum , mean????\n",
    "\n",
    "    \n",
    "    gauss_mix_loss = torch.log(torch.clamp(total_lik, min=0.00000001))\n",
    "    \n",
    "    return -gauss_mix_loss.mean() "
   ]
  },
  {
   "cell_type": "code",
   "execution_count": 35,
   "metadata": {},
   "outputs": [],
   "source": [
    "pixel_cnn = PixelCNN(nr_mix=3)\n",
    "loss_function  = Mixture_Gauss_NLLLoss\n",
    "optimizer = torch.optim.Adam(pixel_cnn.parameters(), lr=0.0005)"
   ]
  },
  {
   "cell_type": "code",
   "execution_count": 36,
   "metadata": {},
   "outputs": [],
   "source": [
    "epochs = 30\n",
    "loss_vals_train = []\n",
    "loss_vals_test = []"
   ]
  },
  {
   "cell_type": "code",
   "execution_count": 37,
   "metadata": {},
   "outputs": [
    {
     "name": "stdout",
     "output_type": "stream",
     "text": [
      "Starting epoch 1\n",
      "Loss after mini-batch     1: -2.697\n",
      "Val Loss after mini-batch     1: -5.734\n",
      "Starting epoch 2\n",
      "Loss after mini-batch     2: -5.856\n",
      "Val Loss after mini-batch     2: -5.888\n",
      "Starting epoch 3\n",
      "Loss after mini-batch     3: -5.902\n",
      "Val Loss after mini-batch     3: -5.910\n",
      "Starting epoch 4\n",
      "Loss after mini-batch     4: -5.918\n",
      "Val Loss after mini-batch     4: -5.925\n",
      "Starting epoch 5\n",
      "Loss after mini-batch     5: -5.930\n",
      "Val Loss after mini-batch     5: -5.934\n",
      "Starting epoch 6\n",
      "Loss after mini-batch     6: -5.938\n",
      "Val Loss after mini-batch     6: -5.942\n",
      "Starting epoch 7\n",
      "Loss after mini-batch     7: -5.944\n",
      "Val Loss after mini-batch     7: -5.947\n",
      "Starting epoch 8\n",
      "Loss after mini-batch     8: -5.947\n",
      "Val Loss after mini-batch     8: -5.949\n",
      "Starting epoch 9\n",
      "Loss after mini-batch     9: -5.950\n",
      "Val Loss after mini-batch     9: -5.951\n",
      "Starting epoch 10\n",
      "Loss after mini-batch    10: -5.953\n",
      "Val Loss after mini-batch    10: -5.953\n",
      "Starting epoch 11\n",
      "Loss after mini-batch    11: -5.955\n",
      "Val Loss after mini-batch    11: -5.955\n",
      "Starting epoch 12\n",
      "Loss after mini-batch    12: -5.957\n",
      "Val Loss after mini-batch    12: -5.958\n",
      "Starting epoch 13\n",
      "Loss after mini-batch    13: -5.960\n",
      "Val Loss after mini-batch    13: -5.961\n",
      "Starting epoch 14\n",
      "Loss after mini-batch    14: -5.962\n",
      "Val Loss after mini-batch    14: -5.962\n",
      "Starting epoch 15\n",
      "Loss after mini-batch    15: -5.963\n",
      "Val Loss after mini-batch    15: -5.964\n",
      "Starting epoch 16\n",
      "Loss after mini-batch    16: -5.965\n",
      "Val Loss after mini-batch    16: -5.965\n",
      "Starting epoch 17\n",
      "Loss after mini-batch    17: -5.966\n",
      "Val Loss after mini-batch    17: -5.965\n",
      "Starting epoch 18\n",
      "Loss after mini-batch    18: -5.967\n",
      "Val Loss after mini-batch    18: -5.967\n",
      "Starting epoch 19\n",
      "Loss after mini-batch    19: -5.968\n",
      "Val Loss after mini-batch    19: -5.968\n",
      "Starting epoch 20\n",
      "Loss after mini-batch    20: -5.970\n",
      "Val Loss after mini-batch    20: -5.968\n",
      "Starting epoch 21\n",
      "Loss after mini-batch    21: -5.971\n",
      "Val Loss after mini-batch    21: -5.969\n",
      "Starting epoch 22\n",
      "Loss after mini-batch    22: -5.971\n",
      "Val Loss after mini-batch    22: -5.970\n",
      "Starting epoch 23\n",
      "Loss after mini-batch    23: -5.972\n",
      "Val Loss after mini-batch    23: -5.970\n",
      "Starting epoch 24\n",
      "Loss after mini-batch    24: -5.973\n",
      "Val Loss after mini-batch    24: -5.971\n",
      "Starting epoch 25\n",
      "Loss after mini-batch    25: -5.973\n",
      "Val Loss after mini-batch    25: -5.971\n",
      "Starting epoch 26\n",
      "Loss after mini-batch    26: -5.974\n",
      "Val Loss after mini-batch    26: -5.972\n",
      "Starting epoch 27\n",
      "Loss after mini-batch    27: -5.974\n",
      "Val Loss after mini-batch    27: -5.973\n",
      "Starting epoch 28\n",
      "Loss after mini-batch    28: -5.974\n",
      "Val Loss after mini-batch    28: -5.972\n",
      "Starting epoch 29\n",
      "Loss after mini-batch    29: -5.975\n",
      "Val Loss after mini-batch    29: -5.973\n",
      "Starting epoch 30\n",
      "Loss after mini-batch    30: -5.975\n",
      "Val Loss after mini-batch    30: -5.973\n",
      "Training process has finished.\n"
     ]
    }
   ],
   "source": [
    "for e in range(epochs): # 5 epochs at maximum\n",
    "    #torch.autograd.detect_anomaly()\n",
    "    # Print epoch\n",
    "    print(f'Starting epoch {e+1}')\n",
    "    \n",
    "    # Set current loss value\n",
    "    current_loss = 0.0\n",
    "\n",
    "    for im, _ in train_loader:\n",
    "        # Zero the gradients\n",
    "        optimizer.zero_grad()\n",
    "\n",
    "        pred_mix = pixel_cnn(im)\n",
    "\n",
    "        loss = loss_function(im, pred_mix)\n",
    "\n",
    "        # Perform backward pass\n",
    "        loss.backward()\n",
    "        # Perform optimization\n",
    "        optimizer.step()\n",
    "        # Print statistics\n",
    "        current_loss += loss.item()\n",
    "\n",
    "    print('Loss after mini-batch %5d: %.3f' %\n",
    "                (e + 1, current_loss / len(train_loader)))    \n",
    "    \n",
    "    validation_loss = 0.0\n",
    "    pixel_cnn.eval()\n",
    "    for im, _ in test_loader:\n",
    "        pred_mix = pixel_cnn(im)\n",
    "        loss_val = loss_function(im, pred_mix)\n",
    "        validation_loss += loss_val.item()\n",
    "\n",
    "    print('Val Loss after mini-batch %5d: %.3f' %\n",
    "                (e + 1, validation_loss / len(test_loader)))\n",
    "\n",
    "    # Process is complete.\n",
    "    loss_vals_train.append(current_loss/len(train_loader))\n",
    "    loss_vals_test.append(validation_loss/len(test_loader))\n",
    "\n",
    "print('Training process has finished.')"
   ]
  },
  {
   "cell_type": "code",
   "execution_count": 38,
   "metadata": {},
   "outputs": [],
   "source": [
    "torch.save(pixel_cnn.state_dict(), 'pixel_cnn_digits.pt')"
   ]
  },
  {
   "cell_type": "code",
   "execution_count": 39,
   "metadata": {},
   "outputs": [
    {
     "data": {
      "text/plain": [
       "Text(0.5, 1.0, 'loss')"
      ]
     },
     "execution_count": 39,
     "metadata": {},
     "output_type": "execute_result"
    },
    {
     "data": {
      "image/png": "[encoded data removed]",
      "text/plain": [
       "<Figure size 640x480 with 1 Axes>"
      ]
     },
     "metadata": {},
     "output_type": "display_data"
    }
   ],
   "source": [
    "plt.plot(range(len(loss_vals_train)),loss_vals_train)\n",
    "plt.plot(range(len(loss_vals_test)),loss_vals_test)\n",
    "plt.title('loss')"
   ]
  },
  {
   "cell_type": "code",
   "execution_count": 40,
   "metadata": {},
   "outputs": [
    {
     "name": "stderr",
     "output_type": "stream",
     "text": [
      "/Users/Torgeir/opt/anaconda3/lib/python3.8/site-packages/scipy/__init__.py:146: UserWarning: A NumPy version >=1.16.5 and <1.23.0 is required for this version of SciPy (detected version 1.23.1\n",
      "  warnings.warn(f\"A NumPy version >={np_minversion} and <{np_maxversion}\"\n"
     ]
    }
   ],
   "source": [
    "from scipy.stats import truncnorm"
   ]
  },
  {
   "cell_type": "code",
   "execution_count": 44,
   "metadata": {},
   "outputs": [],
   "source": [
    "digits_imgs_train = torch.load('digit_MNIST_data/MNIST/processed/training.pt')\n",
    "digits_imgs_test = torch.load('digit_MNIST_data/MNIST/processed/test.pt')"
   ]
  },
  {
   "cell_type": "code",
   "execution_count": 45,
   "metadata": {},
   "outputs": [
    {
     "data": {
      "text/plain": [
       "torch.Size([1, 28, 28])"
      ]
     },
     "execution_count": 45,
     "metadata": {},
     "output_type": "execute_result"
    }
   ],
   "source": [
    "digits_imgs_test[0][2:3].shape"
   ]
  },
  {
   "cell_type": "code",
   "execution_count": 208,
   "metadata": {},
   "outputs": [],
   "source": [
    "def gen_im_mix_trunc(model, im_size, nbh_size):\n",
    "    m, n = nbh_size\n",
    "    \n",
    "    #new_im = np.zeros(im_size)\n",
    "    #new_im = torch.zeros(im_size)\n",
    "    #new_im = torch.full(im_size, 100.0)\n",
    "    #new_im = torch.randint(low=50, high=150, size=im_size,dtype=torch.float)\n",
    "    \n",
    "    #new_im = torch.rand(im_size)-0.5 # prøv med 0.5\n",
    "    #new_im = torch.full(im_size,0.5)\n",
    "    pred_mu = np.zeros(im_size)\n",
    "    pred_sigma2 = np.zeros(im_size)\n",
    "    pred_mu2 = np.zeros(im_size)\n",
    "    pred_sigma2_2 = np.zeros(im_size)\n",
    "    pred_pi_mix = np.zeros(im_size)\n",
    "\n",
    "    pred_sigma_3 = np.zeros(im_size)\n",
    "    pred_mu3 = np.zeros(im_size)\n",
    "    \n",
    "    pred_pi_mix2 = np.zeros(im_size)\n",
    "\n",
    "\n",
    "\n",
    "    #new_im = torch.unsqueeze(digits_imgs_train[0][1:2]/255, dim=0) #- 0.5)\n",
    "    new_im = torch.zeros((1,1,28,28))\n",
    "\n",
    "    for i in range(0, im_size[0]):\n",
    "        for j in range(0, im_size[1]):\n",
    "            \n",
    "            \n",
    "            output = model(new_im)\n",
    "\n",
    "           \n",
    "            pi_mix_output = output[0,6:,i,j]\n",
    "            mu_output = output[0,0:3,i,j]\n",
    "            sigma2_output = output[0,3:6,i,j]\n",
    "            \n",
    "            \n",
    "            pi_mix_sample = np.random.choice(3, 1, p=pi_mix_output.detach().numpy())[0]\n",
    "            \n",
    "            myclip_a = 0.0\n",
    "            myclip_b = 1\n",
    "            my_mean = mu_output[pi_mix_sample].detach().numpy()\n",
    "            my_std = np.sqrt(sigma2_output[pi_mix_sample].detach().numpy())\n",
    "\n",
    "            a, b = (myclip_a - my_mean) / my_std, (myclip_b - my_mean) / my_std\n",
    "            sample_trunc = truncnorm.rvs(a, b,loc=my_mean,scale=my_std, size=1)\n",
    "            new_im[:,:,i,j] = torch.from_numpy(sample_trunc)\n",
    "\n",
    "            \n",
    "            pred_mu[i,j] = mu_output[0]\n",
    "            pred_sigma2[i,j] = sigma2_output[0]\n",
    "\n",
    "            pred_mu2[i,j] = mu_output[1]\n",
    "            pred_sigma2_2[i,j] = sigma2_output[1]\n",
    "\n",
    "            pred_mu3[i,j] = mu_output[2]\n",
    "            pred_sigma_3[i,j] = sigma2_output[2]\n",
    "\n",
    "            pred_pi_mix[i,j] = pi_mix_output[0]\n",
    "            pred_pi_mix2[i,j] = pi_mix_output[2]\n",
    "    \n",
    "    \n",
    "    return new_im, pred_mu, pred_mu2, pred_sigma2, pred_sigma2_2, pred_pi_mix, pred_mu3, pred_sigma_3, pred_pi_mix2"
   ]
  },
  {
   "cell_type": "code",
   "execution_count": 243,
   "metadata": {},
   "outputs": [],
   "source": [
    "new_im, pred_mu, pred_mu2, pred_sigma2, pred_sigma2_2, pred_pi_mix, pred_mu3, pred_sigma_3, pred_pi_mix2 = gen_im_mix_trunc(pixel_cnn, (28,28), (4,4))"
   ]
  },
  {
   "cell_type": "code",
   "execution_count": 244,
   "metadata": {},
   "outputs": [
    {
     "data": {
      "text/plain": [
       "<matplotlib.colorbar.Colorbar at 0x7fb65feb06a0>"
      ]
     },
     "execution_count": 244,
     "metadata": {},
     "output_type": "execute_result"
    },
    {
     "data": {
      "image/png": "[encoded data removed]",
      "text/plain": [
       "<Figure size 640x480 with 2 Axes>"
      ]
     },
     "metadata": {},
     "output_type": "display_data"
    }
   ],
   "source": [
    "plt.imshow(new_im[0,0],cmap='gray')\n",
    "plt.colorbar()"
   ]
  },
  {
   "cell_type": "code",
   "execution_count": 195,
   "metadata": {},
   "outputs": [
    {
     "data": {
      "text/plain": [
       "<matplotlib.colorbar.Colorbar at 0x7fb65b5b3d30>"
      ]
     },
     "execution_count": 195,
     "metadata": {},
     "output_type": "execute_result"
    },
    {
     "data": {
      "image/png": "[encoded data removed]",
      "text/plain": [
       "<Figure size 640x480 with 2 Axes>"
      ]
     },
     "metadata": {},
     "output_type": "display_data"
    }
   ],
   "source": [
    "plt.imshow(new_im[0,0],cmap='gray')\n",
    "plt.colorbar()"
   ]
  },
  {
   "cell_type": "code",
   "execution_count": 196,
   "metadata": {},
   "outputs": [
    {
     "data": {
      "text/plain": [
       "<matplotlib.colorbar.Colorbar at 0x7fb65b796bb0>"
      ]
     },
     "execution_count": 196,
     "metadata": {},
     "output_type": "execute_result"
    },
    {
     "data": {
      "image/png": "[encoded data removed]",
      "text/plain": [
       "<Figure size 640x480 with 2 Axes>"
      ]
     },
     "metadata": {},
     "output_type": "display_data"
    }
   ],
   "source": [
    "plt.imshow(torch.squeeze(digits_imgs_train[0][1:2]/255,dim=0),cmap='gray')\n",
    "plt.colorbar()"
   ]
  }
 ],
 "metadata": {
  "kernelspec": {
   "display_name": "Python 3.8.8 ('base')",
   "language": "python",
   "name": "python3"
  },
  "language_info": {
   "codemirror_mode": {
    "name": "ipython",
    "version": 3
   },
   "file_extension": ".py",
   "mimetype": "text/x-python",
   "name": "python",
   "nbconvert_exporter": "python",
   "pygments_lexer": "ipython3",
   "version": "3.8.8"
  },
  "orig_nbformat": 4,
  "vscode": {
   "interpreter": {
    "hash": "66db61a5b408cff93bead560114db52d0daceaa413e16f30cdafe3555bf06f98"
   }
  }
 },
 "nbformat": 4,
 "nbformat_minor": 2
}
