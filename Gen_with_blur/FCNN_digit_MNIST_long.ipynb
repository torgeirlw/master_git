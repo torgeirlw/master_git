{
 "cells": [
  {
   "cell_type": "code",
   "execution_count": 3,
   "metadata": {},
   "outputs": [],
   "source": [
    "import numpy as np\n",
    "import cv2\n",
    "import os\n",
    "import matplotlib.pyplot as plt"
   ]
  },
  {
   "cell_type": "code",
   "execution_count": 4,
   "metadata": {},
   "outputs": [],
   "source": [
    "import torch\n",
    "from torch import nn\n",
    "import PIL\n",
    "from torchvision import transforms\n",
    "from torchvision import datasets\n",
    "from torch.utils.data import Dataset, DataLoader\n",
    "from pathlib import Path"
   ]
  },
  {
   "cell_type": "code",
   "execution_count": 5,
   "metadata": {},
   "outputs": [],
   "source": [
    "assert torch.__version__=='1.8.1'"
   ]
  },
  {
   "cell_type": "code",
   "execution_count": 6,
   "metadata": {},
   "outputs": [],
   "source": [
    "import torchvision"
   ]
  },
  {
   "cell_type": "code",
   "execution_count": 11,
   "metadata": {},
   "outputs": [
    {
     "data": {
      "text/plain": [
       "'0.2.2'"
      ]
     },
     "execution_count": 11,
     "metadata": {},
     "output_type": "execute_result"
    }
   ],
   "source": [
    "torchvision.__version__"
   ]
  },
  {
   "cell_type": "code",
   "execution_count": 4,
   "metadata": {},
   "outputs": [
    {
     "name": "stdout",
     "output_type": "stream",
     "text": [
      "Downloading http://yann.lecun.com/exdb/mnist/train-images-idx3-ubyte.gz to digit_MNIST_data/MNIST/raw/train-images-idx3-ubyte.gz\n"
     ]
    },
    {
     "data": {
      "application/vnd.jupyter.widget-view+json": {
       "model_id": "58d9e87c5e07456ebfb2140827a82561",
       "version_major": 2,
       "version_minor": 0
      },
      "text/plain": [
       "0it [00:00, ?it/s]"
      ]
     },
     "metadata": {},
     "output_type": "display_data"
    },
    {
     "name": "stdout",
     "output_type": "stream",
     "text": [
      "Extracting digit_MNIST_data/MNIST/raw/train-images-idx3-ubyte.gz\n",
      "Downloading http://yann.lecun.com/exdb/mnist/train-labels-idx1-ubyte.gz to digit_MNIST_data/MNIST/raw/train-labels-idx1-ubyte.gz\n"
     ]
    },
    {
     "data": {
      "application/vnd.jupyter.widget-view+json": {
       "model_id": "b9ae7d12e45641a3987f17ac708c2cc9",
       "version_major": 2,
       "version_minor": 0
      },
      "text/plain": [
       "0it [00:00, ?it/s]"
      ]
     },
     "metadata": {},
     "output_type": "display_data"
    },
    {
     "name": "stdout",
     "output_type": "stream",
     "text": [
      "Extracting digit_MNIST_data/MNIST/raw/train-labels-idx1-ubyte.gz\n",
      "Downloading http://yann.lecun.com/exdb/mnist/t10k-images-idx3-ubyte.gz to digit_MNIST_data/MNIST/raw/t10k-images-idx3-ubyte.gz\n"
     ]
    },
    {
     "data": {
      "application/vnd.jupyter.widget-view+json": {
       "model_id": "ffe9f9d0ced04dc68b9e3308e0a978e3",
       "version_major": 2,
       "version_minor": 0
      },
      "text/plain": [
       "0it [00:00, ?it/s]"
      ]
     },
     "metadata": {},
     "output_type": "display_data"
    },
    {
     "name": "stdout",
     "output_type": "stream",
     "text": [
      "Extracting digit_MNIST_data/MNIST/raw/t10k-images-idx3-ubyte.gz\n",
      "Downloading http://yann.lecun.com/exdb/mnist/t10k-labels-idx1-ubyte.gz to digit_MNIST_data/MNIST/raw/t10k-labels-idx1-ubyte.gz\n"
     ]
    },
    {
     "data": {
      "application/vnd.jupyter.widget-view+json": {
       "model_id": "31e65b13eae74ead84b7a189f6962696",
       "version_major": 2,
       "version_minor": 0
      },
      "text/plain": [
       "0it [00:00, ?it/s]"
      ]
     },
     "metadata": {},
     "output_type": "display_data"
    },
    {
     "name": "stdout",
     "output_type": "stream",
     "text": [
      "Extracting digit_MNIST_data/MNIST/raw/t10k-labels-idx1-ubyte.gz\n",
      "Processing...\n"
     ]
    },
    {
     "name": "stderr",
     "output_type": "stream",
     "text": [
      "/Users/Torgeir/opt/anaconda3/lib/python3.8/site-packages/torchvision/datasets/mnist.py:335: UserWarning: The given NumPy array is not writeable, and PyTorch does not support non-writeable tensors. This means you can write to the underlying (supposedly non-writeable) NumPy array using the tensor. You may want to copy the array to protect its data or make it writeable before converting it to a tensor. This type of warning will be suppressed for the rest of this program. (Triggered internally at  /Users/distiller/project/conda/conda-bld/pytorch_1616554845587/work/torch/csrc/utils/tensor_numpy.cpp:143.)\n",
      "  return torch.from_numpy(parsed).view(length, num_rows, num_cols)\n"
     ]
    },
    {
     "name": "stdout",
     "output_type": "stream",
     "text": [
      "Done!\n"
     ]
    }
   ],
   "source": [
    "trainset = datasets.MNIST('digit_MNIST_data/', download = True, train = True, transform = transforms.ToTensor())\n",
    "testset = datasets.MNIST('digit_MNIST_data/', download = True, train = False, transform = transforms.ToTensor())"
   ]
  },
  {
   "cell_type": "code",
   "execution_count": 129,
   "metadata": {},
   "outputs": [],
   "source": [
    "trainset = torch.load('digit_MNIST_data/MNIST/processed/training.pt')#datasets.MNIST('digit_MNIST_data/', download = True, train = True, transform = transforms.ToTensor())\n",
    "testset = torch.load('digit_MNIST_data/MNIST/processed/test.pt')#datasets.MNIST('digit_MNIST_data/', download = True, train = False, transform = transforms.ToTensor())\n",
    "trainset = torch.unsqueeze(trainset[0]/255,dim=1)\n",
    "testset = torch.unsqueeze(testset[0]/255,dim=1)"
   ]
  },
  {
   "cell_type": "code",
   "execution_count": 48,
   "metadata": {},
   "outputs": [],
   "source": [
    "def blur(img,blur_size):\n",
    "    blur = nn.Conv2d(in_channels = 1,out_channels = 1,kernel_size=blur_size[0],bias=False, padding=blur_size[0]//2,stride=1)\n",
    "    blur.weight = nn.Parameter(torch.ones((1,1,blur_size[0],blur_size[1]))/(blur_size[0]*blur_size[1]),requires_grad=False)\n",
    "    return blur.forward(img)"
   ]
  },
  {
   "cell_type": "code",
   "execution_count": 38,
   "metadata": {},
   "outputs": [],
   "source": [
    "#torch.unsqueeze(trainset_blur[0][:10,:],dim=1).shape"
   ]
  },
  {
   "cell_type": "code",
   "execution_count": 39,
   "metadata": {},
   "outputs": [],
   "source": [
    "#trainset_blur = torch.unsqueeze(trainset_blur[0]/255,dim=1)"
   ]
  },
  {
   "cell_type": "code",
   "execution_count": 130,
   "metadata": {},
   "outputs": [],
   "source": [
    "blurred_trainset = blur(trainset, (5,5))"
   ]
  },
  {
   "cell_type": "code",
   "execution_count": 131,
   "metadata": {},
   "outputs": [],
   "source": [
    "blurred_testset = blur(testset, (5,5))"
   ]
  },
  {
   "cell_type": "code",
   "execution_count": 16,
   "metadata": {},
   "outputs": [
    {
     "data": {
      "text/plain": [
       "torch.Size([10, 1, 28, 28])"
      ]
     },
     "execution_count": 16,
     "metadata": {},
     "output_type": "execute_result"
    }
   ],
   "source": [
    "trainset_blur[:10].shape"
   ]
  },
  {
   "cell_type": "code",
   "execution_count": 132,
   "metadata": {},
   "outputs": [
    {
     "data": {
      "text/plain": [
       "torch.Size([60000, 1, 28, 28])"
      ]
     },
     "execution_count": 132,
     "metadata": {},
     "output_type": "execute_result"
    }
   ],
   "source": [
    "blurred_trainset.shape"
   ]
  },
  {
   "cell_type": "code",
   "execution_count": 50,
   "metadata": {},
   "outputs": [
    {
     "data": {
      "text/plain": [
       "<matplotlib.image.AxesImage at 0x7ffd4583e8b0>"
      ]
     },
     "execution_count": 50,
     "metadata": {},
     "output_type": "execute_result"
    },
    {
     "data": {
      "image/png": "[encoded data removed]",
      "text/plain": [
       "<Figure size 640x480 with 1 Axes>"
      ]
     },
     "metadata": {},
     "output_type": "display_data"
    }
   ],
   "source": [
    "#plt.imshow(ddnd[0,0], cmap='gray')\n",
    "plt.imshow(trainset[898,0], cmap='gray')"
   ]
  },
  {
   "cell_type": "code",
   "execution_count": 134,
   "metadata": {},
   "outputs": [
    {
     "data": {
      "text/plain": [
       "<matplotlib.image.AxesImage at 0x7ffcee196b80>"
      ]
     },
     "execution_count": 134,
     "metadata": {},
     "output_type": "execute_result"
    },
    {
     "data": {
      "image/png": "[encoded data removed]",
      "text/plain": [
       "<Figure size 640x480 with 1 Axes>"
      ]
     },
     "metadata": {},
     "output_type": "display_data"
    }
   ],
   "source": [
    "plt.imshow(blurred_testset[898,0], cmap='gray')"
   ]
  },
  {
   "cell_type": "code",
   "execution_count": 45,
   "metadata": {},
   "outputs": [],
   "source": [
    "#blurrer = transforms.GaussianBlur(kernel_size=5, sigma=0.1)\n",
    "#blur = blurrer(trainset_blur)"
   ]
  },
  {
   "cell_type": "code",
   "execution_count": 135,
   "metadata": {},
   "outputs": [
    {
     "data": {
      "text/plain": [
       "<torch._C.Generator at 0x7ffdfd161e90>"
      ]
     },
     "execution_count": 135,
     "metadata": {},
     "output_type": "execute_result"
    }
   ],
   "source": [
    "np.random.seed(0)\n",
    "torch.manual_seed(0)"
   ]
  },
  {
   "cell_type": "code",
   "execution_count": 136,
   "metadata": {},
   "outputs": [],
   "source": [
    "class FashionNeihgborhoodData(Dataset):\n",
    "\n",
    "    def __init__(self, image_dir, blurred_dataset, transform=False, nbh_size=(5,11), blur_size=(5,5)):#csv_file,root,\n",
    "        #self.root = root\n",
    "        self.image_dir = image_dir\n",
    "        #self.image_files = os.listdir(image_dir)\n",
    "        #self.data = pd.read_csv(csv_file).iloc[:, 1]\n",
    "        self.fashion_data = torch.load(image_dir)\n",
    "        self.fashion_imgs = self.fashion_data[0]/255\n",
    "        self.fashion_labels = self.fashion_data[1]\n",
    "        self.transform = transform\n",
    "        self.nbh_size = nbh_size\n",
    "        self.blurred_dataset = torch.squeeze(blurred_dataset,dim=1)\n",
    "        self.blur_size = blur_size\n",
    "\n",
    "    def __len__(self):\n",
    "        return self.fashion_labels.shape[0]\n",
    "\n",
    "    def __getitem__(self, index):\n",
    "        #image_name = os.path.join(self.image_dir, self.image_files[index])  \n",
    "        #image = PIL.Image.open(image_name)\n",
    "        image = self.fashion_imgs[index]\n",
    "        blr_image = self.blurred_dataset[index]\n",
    "        #label = self.data[index]\n",
    "        if self.transform:\n",
    "            image = self.transform(image)\n",
    "\n",
    "        h, w = self.blur_size[0]//2, self.blur_size[1]//2\n",
    "        \n",
    "        nbh_im = torch.empty((0,50+self.blur_size[0]*self.blur_size[1]))\n",
    "        #blur_nbh_im = torch.empty((0,self.blur_size[0*self.blur_size[1]]))\n",
    "        for i in range(20):\n",
    "            #x1 = np.random.randint(0, images[1].shape[1]-self.nbh_size[0]-1)\n",
    "            #y1 = np.random.randint(0, images[1].shape[2]-self.nbh_size[1]-1)\n",
    "            x1 = np.random.randint(0, image.shape[0]-self.nbh_size[0]-1)\n",
    "            y1 = np.random.randint(0, image.shape[1]-self.nbh_size[1]-1)\n",
    "            \n",
    "            x2, y2 = x1+self.nbh_size[0], y1+self.nbh_size[1]\n",
    "            nbh = torch.flatten(image[x1:x2,y1:y2])\n",
    "            blur_nbh = torch.flatten(blr_image[x1+self.blur_size[0]-h-1:x1+self.blur_size[0]+h,y1+self.blur_size[1]-w-1:y1+self.blur_size[1]+w])\n",
    "            nbh = nbh[:50]\n",
    "            blur_nbh_and_nbh = torch.cat((blur_nbh,nbh),dim=0)\n",
    "            nbh_im = torch.cat((nbh_im, blur_nbh_and_nbh.unsqueeze(0)), dim = 0)\n",
    "        \n",
    "        return nbh_im#image #, label)"
   ]
  },
  {
   "cell_type": "code",
   "execution_count": null,
   "metadata": {},
   "outputs": [],
   "source": []
  },
  {
   "cell_type": "code",
   "execution_count": 92,
   "metadata": {},
   "outputs": [],
   "source": [
    "#x1 = np.random.randint(0, 28-5-1)\n",
    "#y1 = np.random.randint(0, 28-11-1)\n",
    "            \n",
    "#x2, y2 = x1+5, y1+11\n",
    "#nbh = trainset[9,0,x1:x2,y1:y2]\n",
    "#nnn = torch.flatten(nbh)"
   ]
  },
  {
   "cell_type": "code",
   "execution_count": 91,
   "metadata": {},
   "outputs": [],
   "source": [
    "#bbbb = trainset[9,0,x1+5-2-1:x1+5+2,y1+5-2-1:y1+5+2]\n",
    "#plt.imshow(trainset[9,0,x1+5-2-1:x1+5+2,y1+5-2-1:y1+5+2])\n",
    "#bbb = torch.flatten(bbbb)\n",
    "#torch.cat((bbb,nnn),dim=0).shape"
   ]
  },
  {
   "cell_type": "code",
   "execution_count": 93,
   "metadata": {},
   "outputs": [],
   "source": [
    "#plt.imshow(trainset[9,0])"
   ]
  },
  {
   "cell_type": "code",
   "execution_count": 94,
   "metadata": {},
   "outputs": [],
   "source": [
    "#torch.ones((1,50)).shape"
   ]
  },
  {
   "cell_type": "code",
   "execution_count": 137,
   "metadata": {},
   "outputs": [],
   "source": [
    "class MLP_Mix(nn.Module):#define neighborhood size\n",
    "    '''\n",
    "    Multilayer Perceptron.\n",
    "    '''\n",
    "    def __init__(self, first_layer_size, num_mixtures):\n",
    "        super().__init__()\n",
    "        self.first_layer_size = first_layer_size\n",
    "        self.num_mixtures = num_mixtures\n",
    "        self.layers = nn.Sequential(\n",
    "        nn.Flatten(),\n",
    "        nn.Linear(self.first_layer_size, 150),\n",
    "        nn.ReLU(),\n",
    "        #nn.LeakyReLU(),\n",
    "        nn.Linear(150, 150),\n",
    "        nn.ReLU(),\n",
    "        #nn.LeakyReLU(),\n",
    "        nn.Linear(150, 150),\n",
    "        nn.ReLU(), ## leaky relu\n",
    "        #nn.LeakyReLU(),\n",
    "        nn.Linear(150, 150),\n",
    "        nn.ReLU(), ## leaky relu\n",
    "        nn.Linear(150, 3*self.num_mixtures),#,\n",
    "        #nn.ReLU()\n",
    "        #nn.Sigmoid()\n",
    "        \n",
    "        )\n",
    "        self.softmax = nn.Softmax(dim=1)\n",
    "\n",
    "\n",
    "    def forward(self, x):\n",
    "        '''Forward pass'''\n",
    "        out = self.layers(x)\n",
    "\n",
    "        softplus = nn.Softplus()\n",
    "        sigmoid = nn.Sigmoid()\n",
    "\n",
    "        mu = torch.reshape(out[:,0:self.num_mixtures],(out.shape[0],self.num_mixtures))\n",
    "        mu1 = torch.reshape(mu[:,0],  (out.shape[0], 1))\n",
    "        mu2 = mu1 + torch.reshape(softplus(mu[:,1]), (out.shape[0], 1))\n",
    "        mu = torch.cat((mu1,mu2), dim=1)\n",
    "        mu = sigmoid(mu) #- 0.5\n",
    "\n",
    "        sig = torch.reshape(softplus(out[:,1*self.num_mixtures:2*self.num_mixtures]),(out.shape[0],self.num_mixtures)) #sig squared\n",
    "        sig = torch.clamp(sig, 0.00000001)\n",
    "\n",
    "        pi_mix = torch.reshape(out[:,2*self.num_mixtures:3*self.num_mixtures],(out.shape[0],self.num_mixtures))\n",
    "        pi_mix = self.softmax(pi_mix)\n",
    "\n",
    "        out = torch.cat((mu,sig,pi_mix),dim=1)\n",
    "\n",
    "        return out"
   ]
  },
  {
   "cell_type": "code",
   "execution_count": 138,
   "metadata": {},
   "outputs": [],
   "source": [
    "def Mixture_Gauss_NLLLoss(target, pred):# mu, sigma, pi_mix):\n",
    "    total_lik = 0\n",
    "    loss_func  = nn.GaussianNLLLoss(full=False, reduction='none')\n",
    "\n",
    "    nr_mix = int(pred.shape[1]/3)\n",
    "\n",
    "    mu = pred[:,0:nr_mix]\n",
    "    sigma_sq = pred[:,nr_mix:2*nr_mix]  #sigma2 \n",
    "    pi_mix = pred[:,2*nr_mix:3*nr_mix]  \n",
    "\n",
    "    sigma_sq = torch.clamp(sigma_sq, 0.00000001)\n",
    "    for i in range(nr_mix):\n",
    "\n",
    "        loss = loss_func(mu[:,i], target, sigma_sq[:,i])\n",
    "        likelihood = torch.exp(-loss)\n",
    "        \n",
    "        total_lik += pi_mix[:,i]*likelihood\n",
    "\n",
    "    \n",
    "    gauss_mix_loss = torch.log(torch.clamp(total_lik, min=0.00000001))\n",
    "   \n",
    "    return -gauss_mix_loss.mean()  #torchmean"
   ]
  },
  {
   "cell_type": "code",
   "execution_count": 139,
   "metadata": {},
   "outputs": [],
   "source": [
    "MNIST_train = FashionNeihgborhoodData(image_dir='digit_MNIST_data/MNIST/processed/training.pt',blurred_dataset=blurred_trainset)\n",
    "MNIST_test = FashionNeihgborhoodData(image_dir='digit_MNIST_data/MNIST/processed/test.pt', blurred_dataset=blurred_testset)"
   ]
  },
  {
   "cell_type": "code",
   "execution_count": 180,
   "metadata": {},
   "outputs": [],
   "source": [
    "mlp_mix = MLP_Mix(first_layer_size=49+25, num_mixtures=2)\n",
    "\n",
    "# Define the loss function and optimizer\n",
    "loss_function  = Mixture_Gauss_NLLLoss\n",
    "\n",
    "#optimizer = torch.optim.SGD(mlp_mix.parameters(), lr=0.001)\n",
    "#lr_scheduler = \n",
    "optimizer = torch.optim.Adam(mlp_mix.parameters(), lr=0.0001)\n",
    "scheduler = torch.optim.lr_scheduler.ExponentialLR(optimizer, gamma=0.995)"
   ]
  },
  {
   "cell_type": "code",
   "execution_count": 10,
   "metadata": {},
   "outputs": [
    {
     "data": {
      "text/plain": [
       "35906"
      ]
     },
     "execution_count": 10,
     "metadata": {},
     "output_type": "execute_result"
    }
   ],
   "source": [
    "#sum(p.numel() for p in mlp_mix.parameters() if p.requires_grad)"
   ]
  },
  {
   "cell_type": "code",
   "execution_count": 181,
   "metadata": {},
   "outputs": [],
   "source": [
    "dataloader_train = DataLoader(MNIST_train, batch_size=20,\n",
    "                        shuffle=True)#, num_workers=0)\n",
    "\n",
    "dataloader_test = DataLoader(MNIST_test, batch_size=20,\n",
    "                        shuffle=True)"
   ]
  },
  {
   "cell_type": "code",
   "execution_count": 182,
   "metadata": {},
   "outputs": [],
   "source": [
    "epochs = 50 #20\n",
    "loss_vals_train = []\n",
    "loss_vals_test = []"
   ]
  },
  {
   "cell_type": "code",
   "execution_count": 183,
   "metadata": {},
   "outputs": [
    {
     "name": "stdout",
     "output_type": "stream",
     "text": [
      "Starting epoch 1\n",
      "Loss after mini-batch  3000: -4.505\n",
      "Val Loss after mini-batch   500: -4.990\n",
      "Starting epoch 2\n",
      "Loss after mini-batch  3000: -5.042\n",
      "Val Loss after mini-batch   500: -5.090\n",
      "Starting epoch 3\n",
      "Loss after mini-batch  3000: -5.135\n",
      "Val Loss after mini-batch   500: -5.184\n",
      "Starting epoch 4\n",
      "Loss after mini-batch  3000: -5.215\n",
      "Val Loss after mini-batch   500: -5.246\n",
      "Starting epoch 5\n",
      "Loss after mini-batch  3000: -5.270\n",
      "Val Loss after mini-batch   500: -5.288\n",
      "Starting epoch 6\n",
      "Loss after mini-batch  3000: -5.297\n",
      "Val Loss after mini-batch   500: -5.316\n",
      "Starting epoch 7\n",
      "Loss after mini-batch  3000: -5.327\n",
      "Val Loss after mini-batch   500: -5.307\n",
      "Starting epoch 8\n",
      "Loss after mini-batch  3000: -5.348\n",
      "Val Loss after mini-batch   500: -5.356\n",
      "Starting epoch 9\n",
      "Loss after mini-batch  3000: -5.366\n",
      "Val Loss after mini-batch   500: -5.373\n",
      "Starting epoch 10\n",
      "Loss after mini-batch  3000: -5.389\n",
      "Val Loss after mini-batch   500: -5.398\n",
      "Starting epoch 11\n",
      "Loss after mini-batch  3000: -5.404\n",
      "Val Loss after mini-batch   500: -5.412\n",
      "Starting epoch 12\n",
      "Loss after mini-batch  3000: -5.420\n",
      "Val Loss after mini-batch   500: -5.437\n",
      "Starting epoch 13\n",
      "Loss after mini-batch  3000: -5.437\n",
      "Val Loss after mini-batch   500: -5.451\n",
      "Starting epoch 14\n",
      "Loss after mini-batch  3000: -5.451\n",
      "Val Loss after mini-batch   500: -5.474\n",
      "Starting epoch 15\n",
      "Loss after mini-batch  3000: -5.470\n",
      "Val Loss after mini-batch   500: -5.474\n",
      "Starting epoch 16\n",
      "Loss after mini-batch  3000: -5.478\n",
      "Val Loss after mini-batch   500: -5.448\n",
      "Starting epoch 17\n",
      "Loss after mini-batch  3000: -5.493\n",
      "Val Loss after mini-batch   500: -5.498\n",
      "Starting epoch 18\n",
      "Loss after mini-batch  3000: -5.506\n",
      "Val Loss after mini-batch   500: -5.518\n",
      "Starting epoch 19\n",
      "Loss after mini-batch  3000: -5.516\n",
      "Val Loss after mini-batch   500: -5.516\n",
      "Starting epoch 20\n",
      "Loss after mini-batch  3000: -5.529\n",
      "Val Loss after mini-batch   500: -5.464\n",
      "Starting epoch 21\n",
      "Loss after mini-batch  3000: -5.537\n",
      "Val Loss after mini-batch   500: -5.534\n",
      "Starting epoch 22\n",
      "Loss after mini-batch  3000: -5.545\n",
      "Val Loss after mini-batch   500: -5.558\n",
      "Starting epoch 23\n",
      "Loss after mini-batch  3000: -5.554\n",
      "Val Loss after mini-batch   500: -5.567\n",
      "Starting epoch 24\n",
      "Loss after mini-batch  3000: -5.561\n",
      "Val Loss after mini-batch   500: -5.551\n",
      "Starting epoch 25\n",
      "Loss after mini-batch  3000: -5.573\n",
      "Val Loss after mini-batch   500: -5.583\n",
      "Starting epoch 26\n",
      "Loss after mini-batch  3000: -5.579\n",
      "Val Loss after mini-batch   500: -5.498\n",
      "Starting epoch 27\n",
      "Loss after mini-batch  3000: -5.585\n",
      "Val Loss after mini-batch   500: -5.602\n",
      "Starting epoch 28\n",
      "Loss after mini-batch  3000: -5.592\n",
      "Val Loss after mini-batch   500: -5.569\n",
      "Starting epoch 29\n",
      "Loss after mini-batch  3000: -5.600\n",
      "Val Loss after mini-batch   500: -5.612\n",
      "Starting epoch 30\n",
      "Loss after mini-batch  3000: -5.607\n",
      "Val Loss after mini-batch   500: -5.535\n",
      "Starting epoch 31\n",
      "Loss after mini-batch  3000: -5.617\n",
      "Val Loss after mini-batch   500: -5.572\n",
      "Starting epoch 32\n",
      "Loss after mini-batch  3000: -5.619\n",
      "Val Loss after mini-batch   500: -5.606\n",
      "Starting epoch 33\n",
      "Loss after mini-batch  3000: -5.625\n",
      "Val Loss after mini-batch   500: -5.640\n",
      "Starting epoch 34\n",
      "Loss after mini-batch  3000: -5.633\n",
      "Val Loss after mini-batch   500: -5.632\n",
      "Starting epoch 35\n",
      "Loss after mini-batch  3000: -5.641\n",
      "Val Loss after mini-batch   500: -5.657\n",
      "Starting epoch 36\n",
      "Loss after mini-batch  3000: -5.642\n",
      "Val Loss after mini-batch   500: -5.661\n",
      "Starting epoch 37\n",
      "Loss after mini-batch  3000: -5.650\n",
      "Val Loss after mini-batch   500: -5.637\n",
      "Starting epoch 38\n",
      "Loss after mini-batch  3000: -5.654\n",
      "Val Loss after mini-batch   500: -5.680\n",
      "Starting epoch 39\n",
      "Loss after mini-batch  3000: -5.665\n",
      "Val Loss after mini-batch   500: -5.692\n",
      "Starting epoch 40\n",
      "Loss after mini-batch  3000: -5.667\n",
      "Val Loss after mini-batch   500: -5.650\n",
      "Starting epoch 41\n",
      "Loss after mini-batch  3000: -5.671\n",
      "Val Loss after mini-batch   500: -5.664\n",
      "Starting epoch 42\n",
      "Loss after mini-batch  3000: -5.677\n",
      "Val Loss after mini-batch   500: -5.687\n",
      "Starting epoch 43\n",
      "Loss after mini-batch  3000: -5.680\n",
      "Val Loss after mini-batch   500: -5.709\n",
      "Starting epoch 44\n",
      "Loss after mini-batch  3000: -5.688\n",
      "Val Loss after mini-batch   500: -5.693\n",
      "Starting epoch 45\n",
      "Loss after mini-batch  3000: -5.690\n",
      "Val Loss after mini-batch   500: -5.685\n",
      "Starting epoch 46\n",
      "Loss after mini-batch  3000: -5.697\n",
      "Val Loss after mini-batch   500: -5.686\n",
      "Starting epoch 47\n",
      "Loss after mini-batch  3000: -5.702\n",
      "Val Loss after mini-batch   500: -5.725\n",
      "Starting epoch 48\n",
      "Loss after mini-batch  3000: -5.703\n",
      "Val Loss after mini-batch   500: -5.710\n",
      "Starting epoch 49\n",
      "Loss after mini-batch  3000: -5.707\n",
      "Val Loss after mini-batch   500: -5.729\n",
      "Starting epoch 50\n",
      "Loss after mini-batch  3000: -5.715\n",
      "Val Loss after mini-batch   500: -5.713\n",
      "Training process has finished.\n"
     ]
    }
   ],
   "source": [
    "for e in range(epochs): \n",
    "    \n",
    "    print(f'Starting epoch {e+1}')\n",
    "    \n",
    "    # Set current loss value\n",
    "    current_loss = 0.0\n",
    "    \n",
    "    for i, data in enumerate(dataloader_train, 0):\n",
    "        \n",
    "        #current_loss = 0.0\n",
    "      # Get and prepare inputs\n",
    "        data = torch.reshape(data,(-1,50+25))\n",
    "        inputs, targets = data[:,:-1], data[:,-1]\n",
    "        inputs, targets = inputs.float(), targets.float()\n",
    "        targets = targets.reshape((targets.shape[0], 1))\n",
    "      \n",
    "      # Zero the gradients\n",
    "        optimizer.zero_grad()\n",
    "      \n",
    "      # Perform forward pass\n",
    "        outputs = mlp_mix(inputs)\n",
    "        \n",
    "      # Compute loss\n",
    "        \n",
    "        loss = loss_function(targets, outputs)#mu_s, sigma_s, pi_mix)\n",
    "      \n",
    "      # Perform backward pass\n",
    "        loss.backward()\n",
    "      \n",
    "      # Perform optimization\n",
    "        optimizer.step()\n",
    "      \n",
    "      # Print statistics\n",
    "        current_loss += loss.item()\n",
    "        \n",
    "        #if i % 500 == 0:\n",
    "        #if i % 20 == 0:\n",
    "    scheduler.step()\n",
    "\n",
    "    print('Loss after mini-batch %5d: %.3f' %\n",
    "                (i + 1, current_loss / len(dataloader_train)))\n",
    "    #current_loss = 0.0\n",
    "\n",
    "    validation_loss = 0.0\n",
    "    mlp_mix.eval()\n",
    "\n",
    "    for i, data in enumerate(dataloader_test, 0):\n",
    "\n",
    "        data = torch.reshape(data,(-1,50+25))\n",
    "        inputs, targets = data[:,:-1], data[:,-1]\n",
    "        inputs, targets = inputs.float(), targets.float()\n",
    "        targets = targets.reshape((targets.shape[0], 1))\n",
    "\n",
    "        outputs = mlp_mix(inputs)\n",
    "\n",
    "        loss_val = loss_function(targets, outputs)# mu_s, sigma_s, pi_mix)\n",
    "\n",
    "        validation_loss += loss_val.item()\n",
    "\n",
    "\n",
    "    print('Val Loss after mini-batch %5d: %.3f' %\n",
    "                (i + 1, validation_loss / len(dataloader_test)))\n",
    "  # Process is complete.\n",
    "    loss_vals_train.append(current_loss/len(dataloader_train))\n",
    "    loss_vals_test.append(validation_loss/len(dataloader_test))\n",
    "\n",
    "print('Training process has finished.')"
   ]
  },
  {
   "cell_type": "code",
   "execution_count": 184,
   "metadata": {},
   "outputs": [],
   "source": [
    "torch.save(mlp_mix.state_dict(), 'FCNN_blur_mnist_model.pt')"
   ]
  },
  {
   "cell_type": "code",
   "execution_count": 185,
   "metadata": {},
   "outputs": [
    {
     "data": {
      "text/plain": [
       "Text(0.5, 1.0, 'loss')"
      ]
     },
     "execution_count": 185,
     "metadata": {},
     "output_type": "execute_result"
    },
    {
     "data": {
      "image/png": "[encoded data removed]",
      "text/plain": [
       "<Figure size 640x480 with 1 Axes>"
      ]
     },
     "metadata": {},
     "output_type": "display_data"
    }
   ],
   "source": [
    "plt.plot(range(len(loss_vals_train)),loss_vals_train, label='traiin loss')\n",
    "plt.plot(range(len(loss_vals_test)),loss_vals_test, label='test loss')\n",
    "plt.xlabel('epochs')\n",
    "plt.ylabel('Gauss Mix NLL loss')\n",
    "plt.legend()\n",
    "plt.savefig('../figures_blur/MNIST_FCNN_blur_loss_plot.jpg')\n",
    "plt.title('loss')"
   ]
  },
  {
   "cell_type": "code",
   "execution_count": null,
   "metadata": {},
   "outputs": [],
   "source": []
  },
  {
   "cell_type": "code",
   "execution_count": 186,
   "metadata": {},
   "outputs": [],
   "source": [
    "def gen_im_mix(model, new_img, nbh_size, blur_size):#im_size, nbh_size):\n",
    "    m, n = nbh_size\n",
    "    \n",
    "    im_size = new_img.shape\n",
    "    #new_im = torch.rand(im_size)-0.5 # prøv med 0.5\n",
    "    #new_im = torch.full(im_size,0.5)\n",
    "    new_im = new_img.clone()\n",
    "    pred_mu = np.zeros(im_size)\n",
    "    pred_sigma2 = np.zeros(im_size)\n",
    "    pred_mu2 = np.zeros(im_size)\n",
    "    pred_sigma2_2 = np.zeros(im_size)\n",
    "    pred_pi_mix = np.zeros(im_size)\n",
    "    bl_im = new_img.clone()\n",
    "    h, w = blur_size\n",
    "    h = h//2\n",
    "    w = w//2\n",
    "\n",
    "    #new_im = fashion_imgs_test[0][2]/255 - 0.5\n",
    "    #new_im = new_im.numpy()\n",
    "    \n",
    "    for i in range(m, new_im.shape[0]-h):\n",
    "        for j in range(n, new_im.shape[1]-n):\n",
    "            \n",
    "            neighborhood = new_im[i+1-m:i+1,j-n:(j+n+1)]\n",
    "            flat_n = neighborhood.flatten()\n",
    "            blur_nbh = bl_im[i-h:i+h+1, j-w:j+w+1]\n",
    "            blur_nbh_flat = blur_nbh.flatten()\n",
    "            dlt = n\n",
    "            \n",
    "            nbh_ij = flat_n[:-(dlt+1)]\n",
    "\n",
    "            nbh_and_blur = torch.cat((blur_nbh_flat,nbh_ij),dim=0)\n",
    "            \n",
    "            output = model(torch.reshape(nbh_and_blur,(1,49+25))).detach().numpy()\n",
    "\n",
    "            #pi_mix_output = output[0,2]\n",
    "            #mu_output = output[0,0]\n",
    "            #sigma2_output = output[0,1]\n",
    "            #print(sigma2_output)\n",
    "            nr_mix = int(output.shape[1]/3)\n",
    "\n",
    "            pi_mix_output = output[0,2*nr_mix:]\n",
    "            mu_output = output[0,0:nr_mix]\n",
    "            sigma2_output = output[0,nr_mix:2*nr_mix]\n",
    "            #print(pi_mix_output)\n",
    "            \n",
    "            pi_mix_sample = np.random.choice(nr_mix, 1, p=pi_mix_output)[0]\n",
    "            #pi_mix_sample = 0\n",
    "            \n",
    "            #sample = np.random.normal(output.detach().numpy()[0,0],np.sqrt(np.abs(output.detach().numpy()[0,1])))\n",
    "            sample = np.random.normal(mu_output[pi_mix_sample], np.sqrt(sigma2_output[pi_mix_sample]))\n",
    "            #sample = np.random.normal(mu_output, np.sqrt(sigma2_output))\n",
    "            \n",
    "            sample = np.clip(sample, 0.0, 1.0)\n",
    "            new_im[i,j] = sample\n",
    "\n",
    "            #new_im[i,j] = torch.from_numpy(mu_output)[pi_mix_sample]\n",
    "\n",
    "            #pred_mu[i,j] = mu_output[pi_mix_sample]\n",
    "            #pred_sigma2[i,j] = sigma2_output[pi_mix_sample]\n",
    "            pred_mu[i,j] = mu_output[0]\n",
    "            pred_sigma2[i,j] = sigma2_output[0]\n",
    "\n",
    "            pred_mu2[i,j] = mu_output[1]\n",
    "            pred_sigma2_2[i,j] = sigma2_output[1]\n",
    "            pred_pi_mix[i,j] = pi_mix_output[0]\n",
    "    \n",
    "    #return new_im, pred_mu, pred_sigma2\n",
    "    return new_im, pred_mu, pred_mu2, pred_sigma2, pred_sigma2_2, pred_pi_mix"
   ]
  },
  {
   "cell_type": "code",
   "execution_count": 147,
   "metadata": {},
   "outputs": [],
   "source": [
    "mnist_imgs_train = torch.load('digit_MNIST_data/MNIST/processed/training.pt')\n",
    "mnist_imgs_test = torch.load('digit_MNIST_data/MNIST/processed/test.pt')"
   ]
  },
  {
   "cell_type": "code",
   "execution_count": 10,
   "metadata": {},
   "outputs": [
    {
     "data": {
      "text/plain": [
       "MLP_Mix(\n",
       "  (layers): Sequential(\n",
       "    (0): Flatten(start_dim=1, end_dim=-1)\n",
       "    (1): Linear(in_features=49, out_features=100, bias=True)\n",
       "    (2): ReLU()\n",
       "    (3): Linear(in_features=100, out_features=100, bias=True)\n",
       "    (4): ReLU()\n",
       "    (5): Linear(in_features=100, out_features=100, bias=True)\n",
       "    (6): ReLU()\n",
       "    (7): Linear(in_features=100, out_features=100, bias=True)\n",
       "    (8): ReLU()\n",
       "    (9): Linear(in_features=100, out_features=6, bias=True)\n",
       "  )\n",
       "  (softmax): Softmax(dim=1)\n",
       ")"
      ]
     },
     "execution_count": 10,
     "metadata": {},
     "output_type": "execute_result"
    }
   ],
   "source": [
    "mlp_mix = MLP_Mix(first_layer_size=49, num_mixtures=2)\n",
    "mlp_mix.load_state_dict(torch.load('FCNN_mnist_model.pt'))\n",
    "mlp_mix.eval()"
   ]
  },
  {
   "cell_type": "code",
   "execution_count": 169,
   "metadata": {},
   "outputs": [
    {
     "data": {
      "text/plain": [
       "<matplotlib.image.AxesImage at 0x7ffc8c567c70>"
      ]
     },
     "execution_count": 169,
     "metadata": {},
     "output_type": "execute_result"
    },
    {
     "data": {
      "image/png": "[encoded data removed]",
      "text/plain": [
       "<Figure size 640x480 with 1 Axes>"
      ]
     },
     "metadata": {},
     "output_type": "display_data"
    }
   ],
   "source": [
    "plt.imshow(blurred_testset[56,0], vmin=0, vmax=1,cmap='gray')"
   ]
  },
  {
   "cell_type": "code",
   "execution_count": 187,
   "metadata": {},
   "outputs": [
    {
     "data": {
      "text/plain": [
       "[<matplotlib.lines.Line2D at 0x7ffc929344f0>]"
      ]
     },
     "execution_count": 187,
     "metadata": {},
     "output_type": "execute_result"
    },
    {
     "data": {
      "image/png": "[encoded data removed]",
      "text/plain": [
       "<Figure size 640x480 with 1 Axes>"
      ]
     },
     "metadata": {},
     "output_type": "display_data"
    }
   ],
   "source": [
    "new_im, pred_mu, pred_mu2, pred_sigma2, pred_sigma2_2, pred_pi_mix = gen_im_mix(mlp_mix, blurred_testset[56,0], (5,5), (5,5))\n",
    "plt.imshow(new_im, vmin=0, vmax=1,cmap='gray')\n",
    "x = [5, 23]\n",
    "y = [5, 5]\n",
    "xx = [5, 5]\n",
    "yy = [5, 25]\n",
    "xxx = [23, 23]\n",
    "yyy = [5, 25]\n",
    "xxxx = [5, 23]\n",
    "yyyy = [25, 25]\n",
    "plt.plot(x, y, color=\"red\", linewidth=1)\n",
    "plt.plot(xx, yy, color=\"red\", linewidth=1)\n",
    "plt.plot(xxx, yyy, color=\"red\", linewidth=1)\n",
    "plt.plot(xxxx, yyyy, color=\"red\", linewidth=1)"
   ]
  },
  {
   "cell_type": "code",
   "execution_count": 200,
   "metadata": {},
   "outputs": [
    {
     "data": {
      "image/png": "[encoded data removed]",
      "text/plain": [
       "<Figure size 640x480 with 7 Axes>"
      ]
     },
     "metadata": {},
     "output_type": "display_data"
    }
   ],
   "source": [
    "fig, axes = plt.subplots(nrows=2, ncols=3,sharex=True, sharey=True)\n",
    "x = [5, 23]\n",
    "y = [5, 5]\n",
    "xx = [5, 5]\n",
    "yy = [5, 25]\n",
    "xxx = [23, 23]\n",
    "yyy = [5, 25]\n",
    "xxxx = [5, 23]\n",
    "yyyy = [25, 25]\n",
    "for i, ax in enumerate(axes.flat):\n",
    "    if i==0:\n",
    "        im = ax.imshow( mnist_imgs_test[0][565]/255, vmin=0, vmax=1,cmap='gray')\n",
    "\n",
    "    elif i==1:\n",
    "        im = ax.imshow(blurred_testset[565,0], vmin=0, vmax=1,cmap='gray')\n",
    "\n",
    "    else:\n",
    "        new_im, _, _, _, _, _ = gen_im_mix(mlp_mix, blurred_testset[565,0], (5,5), (5,5))\n",
    "        im = ax.imshow(new_im, vmin=0, vmax=1,cmap='gray')\n",
    "        ax.plot(x, y, color=\"red\", linewidth=1)\n",
    "        ax.plot(xx, yy, color=\"red\", linewidth=1)\n",
    "        ax.plot(xxx, yyy, color=\"red\", linewidth=1)\n",
    "        ax.plot(xxxx, yyyy, color=\"red\", linewidth=1)\n",
    "\n",
    "axes[0,0].set_title(\"Test image\")\n",
    "axes[0,1].set_title(\"Blurred test image\")\n",
    "image = fig.colorbar(im, ax=axes.ravel().tolist())\n",
    "fig.suptitle('FCNN deblur sample images')\n",
    "plt.savefig('../figures_blur/MNIST_FCNN_blur_sample1.jpg')\n",
    "plt.show()"
   ]
  },
  {
   "cell_type": "code",
   "execution_count": 199,
   "metadata": {},
   "outputs": [
    {
     "data": {
      "image/png": "[encoded data removed]",
      "text/plain": [
       "<Figure size 640x480 with 7 Axes>"
      ]
     },
     "metadata": {},
     "output_type": "display_data"
    }
   ],
   "source": [
    "fig, axes = plt.subplots(nrows=2, ncols=3,sharex=True, sharey=True)\n",
    "x = [5, 23]\n",
    "y = [5, 5]\n",
    "xx = [5, 5]\n",
    "yy = [5, 25]\n",
    "xxx = [23, 23]\n",
    "yyy = [5, 25]\n",
    "xxxx = [5, 23]\n",
    "yyyy = [25, 25]\n",
    "for i, ax in enumerate(axes.flat):\n",
    "    if i==0:\n",
    "        im = ax.imshow( mnist_imgs_test[0][356]/255, vmin=0, vmax=1,cmap='gray')\n",
    "\n",
    "    elif i==1:\n",
    "        im = ax.imshow(blurred_testset[356,0], vmin=0, vmax=1,cmap='gray')\n",
    "\n",
    "    else:\n",
    "        new_im, _, _, _, _, _ = gen_im_mix(mlp_mix, blurred_testset[356,0], (5,5), (5,5))\n",
    "        im = ax.imshow(new_im, vmin=0, vmax=1,cmap='gray')\n",
    "        ax.plot(x, y, color=\"red\", linewidth=1)\n",
    "        ax.plot(xx, yy, color=\"red\", linewidth=1)\n",
    "        ax.plot(xxx, yyy, color=\"red\", linewidth=1)\n",
    "        ax.plot(xxxx, yyyy, color=\"red\", linewidth=1)\n",
    "\n",
    "axes[0,0].set_title(\"Test image\")\n",
    "axes[0,1].set_title(\"Blurred test image\")\n",
    "image = fig.colorbar(im, ax=axes.ravel().tolist())\n",
    "fig.suptitle('FCNN deblur sample images')\n",
    "plt.savefig('../figures_blur/MNIST_FCNN_blur_sample2.jpg')\n",
    "plt.show()"
   ]
  },
  {
   "cell_type": "code",
   "execution_count": 46,
   "metadata": {},
   "outputs": [
    {
     "data": {
      "text/plain": [
       "torch.Size([28, 28])"
      ]
     },
     "execution_count": 46,
     "metadata": {},
     "output_type": "execute_result"
    }
   ],
   "source": [
    "mnist_imgs_test[0][17].shape"
   ]
  },
  {
   "cell_type": "code",
   "execution_count": 52,
   "metadata": {},
   "outputs": [
    {
     "data": {
      "text/plain": [
       "'\\nx = [5, 23]\\ny = [10, 10]\\nxx = [5, 5]\\nyy = [10, 27]\\nxxx = [23, 23]\\nyyy = [10, 27]\\nplt.plot(x, y, color=\"red\", linewidth=1)\\nplt.plot(xx, yy, color=\"red\", linewidth=1)\\nplt.plot(xxx, yyy, color=\"red\", linewidth=1)\\n'"
      ]
     },
     "execution_count": 52,
     "metadata": {},
     "output_type": "execute_result"
    }
   ],
   "source": [
    "#new_im, _, _, _, _, _ = gen_im_mix(mlp_mix, torch.zeros((100,100)), (5,5))\n",
    "#plt.imshow(new_im,cmap='gray')\n",
    "\"\"\"\n",
    "x = [5, 23]\n",
    "y = [10, 10]\n",
    "xx = [5, 5]\n",
    "yy = [10, 27]\n",
    "xxx = [23, 23]\n",
    "yyy = [10, 27]\n",
    "plt.plot(x, y, color=\"red\", linewidth=1)\n",
    "plt.plot(xx, yy, color=\"red\", linewidth=1)\n",
    "plt.plot(xxx, yyy, color=\"red\", linewidth=1)\n",
    "\"\"\"\n",
    "#plt.savefig('../figures/MNIST_FCNN_sample1.jpg')\n",
    "#plt.title('FCNN sample with 2')\n",
    "#plt.colorbar()"
   ]
  },
  {
   "cell_type": "code",
   "execution_count": 134,
   "metadata": {},
   "outputs": [
    {
     "data": {
      "text/plain": [
       "<matplotlib.colorbar.Colorbar at 0x7f84c3645ac0>"
      ]
     },
     "execution_count": 134,
     "metadata": {},
     "output_type": "execute_result"
    },
    {
     "data": {
      "image/png": "[encoded data removed]",
      "text/plain": [
       "<Figure size 640x480 with 2 Axes>"
      ]
     },
     "metadata": {},
     "output_type": "display_data"
    }
   ],
   "source": [
    "plt.imshow(new_im,cmap='gray')\n",
    "x = [5, 23]\n",
    "y = [10, 10]\n",
    "xx = [5, 5]\n",
    "yy = [10, 27]\n",
    "xxx = [23, 23]\n",
    "yyy = [10, 27]\n",
    "plt.plot(x, y, color=\"red\", linewidth=1)\n",
    "plt.plot(xx, yy, color=\"red\", linewidth=1)\n",
    "plt.plot(xxx, yyy, color=\"red\", linewidth=1)\n",
    "#plt.savefig('../figures/MNIST_FCNN_sample1.jpg')\n",
    "plt.title('FCNN sample with 2')\n",
    "plt.colorbar()"
   ]
  },
  {
   "cell_type": "code",
   "execution_count": 116,
   "metadata": {},
   "outputs": [],
   "source": [
    "#plt.imshow(mnist_imgs_test[0][1]/255,cmap='gray')"
   ]
  },
  {
   "cell_type": "code",
   "execution_count": null,
   "metadata": {},
   "outputs": [],
   "source": []
  },
  {
   "cell_type": "code",
   "execution_count": 57,
   "metadata": {},
   "outputs": [],
   "source": [
    "#no sampling\n",
    "new_im, pred_mu, pred_mu2, pred_sigma2, pred_sigma2_2, pred_pi_mix = gen_im_mix(mlp_mix, mnist_imgs_test[0][1]/255, (5,5))"
   ]
  },
  {
   "cell_type": "code",
   "execution_count": 58,
   "metadata": {},
   "outputs": [
    {
     "data": {
      "image/png": "[encoded data removed]",
      "text/plain": [
       "<Figure size 640x480 with 9 Axes>"
      ]
     },
     "metadata": {},
     "output_type": "display_data"
    }
   ],
   "source": [
    "fig, axes = plt.subplots(nrows=2, ncols=3)#,sharex=True, sharey=True)\n",
    "\n",
    "im = axes.flat[0].imshow(new_im, vmin=0, vmax=1,cmap='gray')\n",
    "#plt.colorbar(im, ax=axes[0,0],fraction=0.046, pad=0.04)\n",
    "axes[0,0].set_title(\"Actual test image\")\n",
    "\n",
    "x = [5, 23]\n",
    "y = [10, 10]\n",
    "xx = [5, 5]\n",
    "yy = [10, 27]\n",
    "xxx = [23, 23]\n",
    "yyy = [10, 27]\n",
    "\n",
    "axes[0,1].plot(x, y, color=\"red\", linewidth=1)\n",
    "axes[0,1].plot(xx, yy, color=\"red\", linewidth=1)\n",
    "axes[0,1].plot(xxx, yyy, color=\"red\", linewidth=1)\n",
    "im = axes.flat[1].imshow(pred_mu, vmin=0, vmax=1,cmap='gray')\n",
    "#plt.colorbar(im, ax=axes[1],fraction=0.046, pad=0.04)\n",
    "axes[0,1].set_title(\"Predicted mu_1\")\n",
    "\n",
    "axes[0,2].plot(x, y, color=\"red\", linewidth=1)\n",
    "axes[0,2].plot(xx, yy, color=\"red\", linewidth=1)\n",
    "axes[0,2].plot(xxx, yyy, color=\"red\", linewidth=1)\n",
    "im = axes.flat[2].imshow(pred_mu2, vmin=0, vmax=1,cmap='gray')\n",
    "#plt.colorbar(im, ax=axes[1],fraction=0.046, pad=0.04)\n",
    "axes[0,2].set_title(\"Predicted mu_2\")\n",
    "\n",
    "axes[1,0].plot(x, y, color=\"red\", linewidth=1)\n",
    "axes[1,0].plot(xx, yy, color=\"red\", linewidth=1)\n",
    "axes[1,0].plot(xxx, yyy, color=\"red\", linewidth=1)\n",
    "im = axes.flat[3].imshow(pred_sigma2,cmap='gray')\n",
    "#plt.colorbar(im, ax=axes[1,0],fraction=0.046, pad=0.04)\n",
    "fig.colorbar(im,ax=axes[1,0],fraction=0.046, pad=0.04)\n",
    "axes[1,0].set_title(\"Pred sigma^2\")\n",
    "\n",
    "axes[1,1].plot(x, y, color=\"red\", linewidth=1)\n",
    "axes[1,1].plot(xx, yy, color=\"red\", linewidth=1)\n",
    "axes[1,1].plot(xxx, yyy, color=\"red\", linewidth=1)\n",
    "im = axes.flat[4].imshow(pred_sigma2_2, cmap='gray')\n",
    "fig.colorbar(im, ax=axes[1,1],fraction=0.046, pad=0.04)\n",
    "#plt.colorbar(im, ax=axes[1,1])#,fraction=0.046, pad=0.04)\n",
    "axes[1,1].set_title(\"Pred sigma_2^2\")\n",
    "\n",
    "axes[1,2].plot(x, y, color=\"red\", linewidth=1)\n",
    "axes[1,2].plot(xx, yy, color=\"red\", linewidth=1)\n",
    "axes[1,2].plot(xxx, yyy, color=\"red\", linewidth=1)\n",
    "im = axes.flat[5].imshow(pred_pi_mix, vmin=0, vmax=1,cmap='gray')\n",
    "axes[1,2].set_title(\"Predicted mixture\")\n",
    "\n",
    "\n",
    "fig.suptitle('Predictions with nr 2')\n",
    "#plt.colorbar(im, ax=axes[1],fraction=0.046, pad=0.04)\n",
    "fig.tight_layout()\n",
    "#fig.set_figheight(5)\n",
    "#fig.set_figwidth(10)\n",
    "#fig.colorbar(im, ax=axes[[0,1],2],fraction=0.46)#, pad=0.04)#fraction=0.46, pad=0.4)# ax=axes.ravel().tolist())\n",
    "fig.subplots_adjust(right=0.8)\n",
    "cbar_ax = fig.add_axes([0.85, 0.15, 0.05, 0.7])\n",
    "fig.colorbar(im, cax=cbar_ax)\n",
    "plt.savefig('../figures/MNIST_FCNN_pred_res1.jpg')\n",
    "plt.show()"
   ]
  },
  {
   "cell_type": "code",
   "execution_count": 137,
   "metadata": {},
   "outputs": [
    {
     "data": {
      "text/plain": [
       "<matplotlib.colorbar.Colorbar at 0x7f84c3828910>"
      ]
     },
     "execution_count": 137,
     "metadata": {},
     "output_type": "execute_result"
    },
    {
     "data": {
      "image/png": "[encoded data removed]",
      "text/plain": [
       "<Figure size 640x480 with 2 Axes>"
      ]
     },
     "metadata": {},
     "output_type": "display_data"
    }
   ],
   "source": [
    "plt.imshow(new_im,cmap='gray')\n",
    "x = [5, 23]\n",
    "y = [10, 10]\n",
    "xx = [5, 5]\n",
    "yy = [10, 27]\n",
    "xxx = [23, 23]\n",
    "yyy = [10, 27]\n",
    "plt.plot(x, y, color=\"red\", linewidth=1)\n",
    "plt.plot(xx, yy, color=\"red\", linewidth=1)\n",
    "plt.plot(xxx, yyy, color=\"red\", linewidth=1)\n",
    "#plt.savefig('../figures/MNIST_FCNN_sample3.jpg')\n",
    "plt.colorbar()"
   ]
  },
  {
   "cell_type": "code",
   "execution_count": 202,
   "metadata": {},
   "outputs": [
    {
     "data": {
      "text/plain": [
       "<matplotlib.image.AxesImage at 0x7f84c3c29730>"
      ]
     },
     "execution_count": 202,
     "metadata": {},
     "output_type": "execute_result"
    },
    {
     "data": {
      "image/png": "[encoded data removed]",
      "text/plain": [
       "<Figure size 640x480 with 1 Axes>"
      ]
     },
     "metadata": {},
     "output_type": "display_data"
    }
   ],
   "source": [
    "plt.imshow(mnist_imgs_test[0][11]/255,cmap='gray')"
   ]
  },
  {
   "cell_type": "code",
   "execution_count": null,
   "metadata": {},
   "outputs": [],
   "source": []
  },
  {
   "cell_type": "code",
   "execution_count": null,
   "metadata": {},
   "outputs": [],
   "source": []
  },
  {
   "cell_type": "code",
   "execution_count": null,
   "metadata": {},
   "outputs": [],
   "source": []
  },
  {
   "cell_type": "code",
   "execution_count": null,
   "metadata": {},
   "outputs": [],
   "source": []
  },
  {
   "cell_type": "code",
   "execution_count": null,
   "metadata": {},
   "outputs": [],
   "source": []
  },
  {
   "cell_type": "code",
   "execution_count": 38,
   "metadata": {},
   "outputs": [],
   "source": [
    "mnist_imgs_train = torch.load('digit_MNIST_data/MNIST/processed/training.pt')\n",
    "mnist_imgs_test = torch.load('digit_MNIST_data/MNIST/processed/test.pt')"
   ]
  },
  {
   "cell_type": "code",
   "execution_count": 39,
   "metadata": {},
   "outputs": [
    {
     "data": {
      "text/plain": [
       "torch.Size([28, 28])"
      ]
     },
     "execution_count": 39,
     "metadata": {},
     "output_type": "execute_result"
    }
   ],
   "source": [
    "#mnist_imgs_train[0][2].shape"
   ]
  },
  {
   "cell_type": "code",
   "execution_count": 44,
   "metadata": {},
   "outputs": [],
   "source": [
    "#plt.imshow(mnist_imgs_train[0][2]/255,cmap='gray')\n",
    "#plt.colorbar()"
   ]
  },
  {
   "cell_type": "code",
   "execution_count": 43,
   "metadata": {},
   "outputs": [
    {
     "data": {
      "image/png": "[encoded data removed]",
      "text/plain": [
       "<Figure size 640x480 with 10 Axes>"
      ]
     },
     "metadata": {},
     "output_type": "display_data"
    }
   ],
   "source": [
    "fig, axes = plt.subplots(nrows=3, ncols=3,sharex=True, sharey=True)\n",
    "for i, ax in enumerate(axes.flat):\n",
    "    #print(i,ax)\n",
    "    im = ax.imshow(mnist_imgs_train[0][i]/255, vmin=0, vmax=1,cmap='gray')\n",
    "\n",
    "image = fig.colorbar(im, ax=axes.ravel().tolist())\n",
    "fig.suptitle('Example train images')\n",
    "plt.savefig('../figures/MNIST_train_im.jpg')#, image)\n",
    "plt.show()"
   ]
  },
  {
   "cell_type": "code",
   "execution_count": null,
   "metadata": {},
   "outputs": [],
   "source": []
  },
  {
   "cell_type": "code",
   "execution_count": null,
   "metadata": {},
   "outputs": [],
   "source": []
  },
  {
   "cell_type": "code",
   "execution_count": null,
   "metadata": {},
   "outputs": [],
   "source": []
  },
  {
   "cell_type": "code",
   "execution_count": null,
   "metadata": {},
   "outputs": [],
   "source": []
  },
  {
   "cell_type": "code",
   "execution_count": null,
   "metadata": {},
   "outputs": [],
   "source": []
  },
  {
   "cell_type": "code",
   "execution_count": null,
   "metadata": {},
   "outputs": [],
   "source": []
  },
  {
   "cell_type": "code",
   "execution_count": null,
   "metadata": {},
   "outputs": [],
   "source": []
  },
  {
   "cell_type": "code",
   "execution_count": null,
   "metadata": {},
   "outputs": [],
   "source": []
  },
  {
   "cell_type": "code",
   "execution_count": null,
   "metadata": {},
   "outputs": [],
   "source": []
  },
  {
   "cell_type": "code",
   "execution_count": null,
   "metadata": {},
   "outputs": [],
   "source": []
  },
  {
   "cell_type": "code",
   "execution_count": null,
   "metadata": {},
   "outputs": [],
   "source": []
  },
  {
   "cell_type": "code",
   "execution_count": null,
   "metadata": {},
   "outputs": [],
   "source": []
  },
  {
   "cell_type": "code",
   "execution_count": null,
   "metadata": {},
   "outputs": [],
   "source": []
  }
 ],
 "metadata": {
  "kernelspec": {
   "display_name": "Python 3.8.8 ('base')",
   "language": "python",
   "name": "python3"
  },
  "language_info": {
   "codemirror_mode": {
    "name": "ipython",
    "version": 3
   },
   "file_extension": ".py",
   "mimetype": "text/x-python",
   "name": "python",
   "nbconvert_exporter": "python",
   "pygments_lexer": "ipython3",
   "version": "3.8.8"
  },
  "orig_nbformat": 4,
  "vscode": {
   "interpreter": {
    "hash": "66db61a5b408cff93bead560114db52d0daceaa413e16f30cdafe3555bf06f98"
   }
  }
 },
 "nbformat": 4,
 "nbformat_minor": 2
}
