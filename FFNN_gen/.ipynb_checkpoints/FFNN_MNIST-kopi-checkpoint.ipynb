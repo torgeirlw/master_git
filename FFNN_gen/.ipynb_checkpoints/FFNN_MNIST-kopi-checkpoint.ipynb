{
 "cells": [
  {
   "cell_type": "code",
   "execution_count": 1,
   "id": "be01ce8b",
   "metadata": {},
   "outputs": [],
   "source": [
    "import numpy as np\n",
    "import cv2\n",
    "import os\n",
    "import matplotlib.pyplot as plt"
   ]
  },
  {
   "cell_type": "code",
   "execution_count": 2,
   "id": "260f362e",
   "metadata": {},
   "outputs": [],
   "source": [
    "import torch\n",
    "from torch import nn\n",
    "from torchvision import transforms\n",
    "from torchvision import datasets\n",
    "from torch.utils.data import Dataset, DataLoader\n",
    "from pathlib import Path"
   ]
  },
  {
   "cell_type": "code",
   "execution_count": 3,
   "id": "4a152aa4",
   "metadata": {},
   "outputs": [],
   "source": [
    "transform = transforms.Compose([transforms.ToTensor(),\n",
    "                                #transforms.Normalize((0.5, 0.5, 0.5), (0.5, 0.5, 0.5))\n",
    "                                transforms.Normalize((0.5), (0.5))\n",
    "                               ])\n",
    "\n",
    "# Download and load the training data\n",
    "trainset = datasets.FashionMNIST('MNIST_data/', download = True, train = True, transform = transform)\n",
    "testset = datasets.FashionMNIST('MNIST_data/', download = True, train = False, transform = transform)\n",
    "trainloader = torch.utils.data.DataLoader(trainset, batch_size = 64, shuffle = True)\n",
    "testloader = torch.utils.data.DataLoader(testset, batch_size = 64, shuffle = True)"
   ]
  },
  {
   "cell_type": "code",
   "execution_count": 4,
   "id": "13c46afa",
   "metadata": {},
   "outputs": [
    {
     "name": "stdout",
     "output_type": "stream",
     "text": [
      "<class 'torch.Tensor'>\n",
      "torch.Size([64, 1, 28, 28])\n",
      "torch.Size([64])\n"
     ]
    }
   ],
   "source": [
    "# Examine a sample\n",
    "dataiter = iter(trainloader)\n",
    "images, labels = dataiter.next()\n",
    "print(type(images))\n",
    "print(images.shape)\n",
    "print(labels.shape)"
   ]
  },
  {
   "cell_type": "code",
   "execution_count": 5,
   "id": "565d1c30",
   "metadata": {},
   "outputs": [
    {
     "data": {
      "text/plain": [
       "<matplotlib.image.AxesImage at 0x7fbd7b83aa90>"
      ]
     },
     "execution_count": 5,
     "metadata": {},
     "output_type": "execute_result"
    },
    {
     "data": {
      "image/png": "[encoded data removed]",
      "text/plain": [
       "<Figure size 432x288 with 1 Axes>"
      ]
     },
     "metadata": {
      "needs_background": "light"
     },
     "output_type": "display_data"
    }
   ],
   "source": [
    "plt.imshow(images[1].numpy().squeeze(), cmap = 'Greys_r')"
   ]
  },
  {
   "cell_type": "code",
   "execution_count": 6,
   "id": "257c7bd6",
   "metadata": {},
   "outputs": [
    {
     "data": {
      "text/plain": [
       "(28, 28)"
      ]
     },
     "execution_count": 6,
     "metadata": {},
     "output_type": "execute_result"
    }
   ],
   "source": [
    "images[1].numpy().squeeze().shape"
   ]
  },
  {
   "cell_type": "code",
   "execution_count": 7,
   "id": "fbde0c8b",
   "metadata": {},
   "outputs": [],
   "source": [
    "import random"
   ]
  },
  {
   "cell_type": "code",
   "execution_count": 8,
   "id": "542a6fc4",
   "metadata": {},
   "outputs": [],
   "source": [
    "portion_size = (10,10)"
   ]
  },
  {
   "cell_type": "code",
   "execution_count": null,
   "id": "70730c77",
   "metadata": {},
   "outputs": [],
   "source": [
    "x1 = random.randint(0, images[1].shape[1]-portion_size[0]-1)\n",
    "y1 = random.randint(0, images[1].shape[2]-portion_size[1]-1)\n",
    "\n",
    "#x2, y2 = x1+portion_size[0]-1, y1+portion_size[1]-1\n",
    "x2, y2 = x1+portion_size[0], y1+portion_size[1]"
   ]
  },
  {
   "cell_type": "code",
   "execution_count": null,
   "id": "049f7efc",
   "metadata": {},
   "outputs": [],
   "source": [
    "np.random.randint(0,10)"
   ]
  },
  {
   "cell_type": "code",
   "execution_count": null,
   "id": "915fe923",
   "metadata": {},
   "outputs": [],
   "source": [
    "part_im = images[1].numpy().squeeze()[x1:x2,y1:y2]"
   ]
  },
  {
   "cell_type": "code",
   "execution_count": null,
   "id": "b5f1b11f",
   "metadata": {},
   "outputs": [],
   "source": [
    "part_im"
   ]
  },
  {
   "cell_type": "code",
   "execution_count": null,
   "id": "e570bb62",
   "metadata": {},
   "outputs": [],
   "source": [
    "x1,x2,y1,y2"
   ]
  },
  {
   "cell_type": "code",
   "execution_count": null,
   "id": "dd24a143",
   "metadata": {},
   "outputs": [],
   "source": [
    "plt.imshow(part_im, cmap = 'Greys_r')"
   ]
  },
  {
   "cell_type": "code",
   "execution_count": null,
   "id": "29a52917",
   "metadata": {},
   "outputs": [],
   "source": [
    "part_im = part_im.flatten()"
   ]
  },
  {
   "cell_type": "code",
   "execution_count": null,
   "id": "86e688e9",
   "metadata": {},
   "outputs": [],
   "source": [
    "part_im[:95].shape"
   ]
  },
  {
   "cell_type": "code",
   "execution_count": null,
   "id": "90642e14",
   "metadata": {},
   "outputs": [],
   "source": []
  },
  {
   "cell_type": "code",
   "execution_count": null,
   "id": "b20ec6a7",
   "metadata": {},
   "outputs": [],
   "source": []
  },
  {
   "cell_type": "code",
   "execution_count": null,
   "id": "3668ea10",
   "metadata": {},
   "outputs": [],
   "source": []
  },
  {
   "cell_type": "code",
   "execution_count": null,
   "id": "0cbc2a98",
   "metadata": {},
   "outputs": [],
   "source": []
  },
  {
   "cell_type": "code",
   "execution_count": null,
   "id": "56b26913",
   "metadata": {},
   "outputs": [],
   "source": [
    "#make dataloader that can sample part of images."
   ]
  },
  {
   "cell_type": "code",
   "execution_count": null,
   "id": "92e08b33",
   "metadata": {},
   "outputs": [],
   "source": [
    "#make custum gaussian mixture NLL loss function."
   ]
  },
  {
   "cell_type": "code",
   "execution_count": null,
   "id": "6a4546db",
   "metadata": {},
   "outputs": [],
   "source": [
    "fashion_imgs = torch.load('MNIST_data/FashionMNIST/processed/test.pt')"
   ]
  },
  {
   "cell_type": "code",
   "execution_count": null,
   "id": "b130300b",
   "metadata": {},
   "outputs": [],
   "source": []
  },
  {
   "cell_type": "code",
   "execution_count": null,
   "id": "08705077",
   "metadata": {},
   "outputs": [],
   "source": [
    "class FashionNeihgborhoodData(Dataset):\n",
    "\n",
    "    def __init__(self, image_dir, transform=None, nbh_size=(4,9)):#csv_file,root,\n",
    "        #self.root = root\n",
    "        self.image_dir = image_dir\n",
    "        #self.image_files = os.listdir(image_dir)\n",
    "        #self.data = pd.read_csv(csv_file).iloc[:, 1]\n",
    "        self.fashion_data = torch.load(image_dir)\n",
    "        self.fashion_imgs = self.fashion_data[0]/255\n",
    "        self.fashion_labels = self.fashion_data[1]\n",
    "        self.transform = transform\n",
    "        self.nbh_size = nbh_size\n",
    "\n",
    "    def __len__(self):\n",
    "        return self.fashion_labels.shape[0]\n",
    "\n",
    "    def __getitem__(self, index):\n",
    "        #image_name = os.path.join(self.image_dir, self.image_files[index])  \n",
    "        #image = PIL.Image.open(image_name)\n",
    "        image = self.fashion_imgs[index]\n",
    "        #label = self.data[index]\n",
    "        if self.transform:\n",
    "            image = self.transform(image)\n",
    "        \n",
    "        nbh_im = torch.empty((0,32)) \n",
    "        for i in range(10):\n",
    "            x1 = np.random.randint(0, images[1].shape[1]-self.nbh_size[0]-1)\n",
    "            y1 = np.random.randint(0, images[1].shape[2]-self.nbh_size[1]-1)\n",
    "        \n",
    "            x2, y2 = x1+portion_size[0], y1+portion_size[1]\n",
    "            nbh = torch.flatten(image[x1:x2,y1:y2])\n",
    "            nbh = nbh[:32]\n",
    "            nbh_im = torch.cat((nbh_im, nbh.unsqueeze(0)), dim = 0)\n",
    "        \n",
    "        return nbh_im#image #, label)"
   ]
  },
  {
   "cell_type": "code",
   "execution_count": null,
   "id": "8ac988f0",
   "metadata": {},
   "outputs": [],
   "source": [
    "class GaussMixNLLLoss():\n",
    "    def __init__(self):\n",
    "        tntn\n",
    "def GaussianMixNLLLoss(input: Tensor,\n",
    "    target: Tensor,\n",
    "    var: Tensor,\n",
    "    full: bool = False,\n",
    "    eps: float = 1e-6,\n",
    "    reduction: str = \"mean\",\n",
    ") -> Tensor:\n",
    "    \n",
    "    if torch.any(var < 0):\n",
    "        raise ValueError(\"var has negative entry/entries\")\n",
    "        \n",
    "    # Clamp for stability\n",
    "    var = var.clone()\n",
    "    with torch.no_grad():\n",
    "        var.clamp_(min=eps)\n",
    "    \n",
    "    loss = 0.5 * (torch.log(var) + (input - target)**2 / var)\n",
    "    \n",
    "    if reduction == 'mean':\n",
    "        return loss.mean()\n",
    "    elif reduction == 'sum':\n",
    "        return loss.sum()\n",
    "    else:\n",
    "        return loss\n",
    "    \n",
    "def GaussianMixNLLLoss(pi_s, mu, var, target):\n",
    "    GaussianNLLLoss = torch.nn.GaussianNLLLoss()\n",
    "    total_likelihood = 0\n",
    "\n",
    "    # Calculate and sum the likelihoods of each component\n",
    "    for k, pi_k in enumerate(pi_s):\n",
    "        loss = GaussianNLLLoss(mu[k], target, var[k])\n",
    "        likelihood = torch.exp(-loss)\n",
    "        total_likelihood += pi_k * likelihood\n",
    "\n",
    "    # Take the negative log to give the GMM negative log-likelihood loss\n",
    "    GMM_NLLLoss = -torch.log(total_likelihood) \n"
   ]
  },
  {
   "cell_type": "code",
   "execution_count": null,
   "id": "8b281841",
   "metadata": {},
   "outputs": [],
   "source": [
    "fashion = FashionNeihgborhoodData(image_dir='MNIST_data/FashionMNIST/processed/test.pt')#, transform=transforms.ToTensor())\n",
    "#fashion[2]"
   ]
  },
  {
   "cell_type": "code",
   "execution_count": null,
   "id": "e8bed8a6",
   "metadata": {},
   "outputs": [],
   "source": [
    "class MLP(nn.Module):#define neighborhood size\n",
    "    '''\n",
    "    Multilayer Perceptron.\n",
    "    '''\n",
    "    def __init__(self):\n",
    "        super().__init__()\n",
    "        self.layers = nn.Sequential(\n",
    "        nn.Flatten(),\n",
    "        nn.Linear(31, 64),\n",
    "        nn.ReLU(),\n",
    "        nn.Linear(64, 32),\n",
    "        nn.ReLU(),\n",
    "        nn.Linear(32, 64),\n",
    "        nn.ReLU(),\n",
    "        nn.Linear(64, 2),#,\n",
    "        #nn.ReLU()\n",
    "        #nn.Sigmoid()\n",
    "        \n",
    "        )\n",
    "\n",
    "\n",
    "    def forward(self, x):\n",
    "        '''Forward pass'''\n",
    "        out = self.layers(x)\n",
    "        \n",
    "        mu = torch.reshape(out[:,0],(out.shape[0],1))\n",
    "        sig = torch.reshape(torch.exp(out[:,1]),(out.shape[0],1))\n",
    "\n",
    "        out = torch.cat((mu,sig),dim=1)\n",
    "        #print(out)\n",
    "        return out"
   ]
  },
  {
   "cell_type": "code",
   "execution_count": null,
   "id": "d3be8210",
   "metadata": {},
   "outputs": [],
   "source": [
    "dataloader = DataLoader(fashion, batch_size=2,\n",
    "                        shuffle=True)#, num_workers=0)"
   ]
  },
  {
   "cell_type": "code",
   "execution_count": null,
   "id": "6fe8c174",
   "metadata": {},
   "outputs": [],
   "source": [
    "mlp = MLP()\n",
    "\n",
    "# Define the loss function and optimizer\n",
    "loss_function = nn.GaussianNLLLoss(full=False, reduction='mean')\n",
    "optimizer = torch.optim.SGD(mlp.parameters(), lr=1e-4)\n",
    "#trainloader = torch.utils.data.DataLoader(train_dat, batch_size=32, shuffle=True)"
   ]
  },
  {
   "cell_type": "code",
   "execution_count": 26,
   "id": "e061bdf5",
   "metadata": {},
   "outputs": [],
   "source": [
    "epochs = 20 #20\n",
    "loss_vals = []"
   ]
  },
  {
   "cell_type": "code",
   "execution_count": null,
   "id": "43e1e59f",
   "metadata": {},
   "outputs": [],
   "source": [
    "for e in range(epochs): # 5 epochs at maximum\n",
    "    \n",
    "    # Print epoch\n",
    "    print(f'Starting epoch {e+1}')\n",
    "    \n",
    "    # Set current loss value\n",
    "    current_loss = 0.0\n",
    "    \n",
    "    for i, data in enumerate(dataloader, 0):\n",
    "      \n",
    "      # Get and prepare inputs\n",
    "        data = torch.reshape(data,(-1,32))\n",
    "        inputs, targets = data[:,:-1], data[:,-1]\n",
    "        inputs, targets = inputs.float(), targets.float()\n",
    "        targets = targets.reshape((targets.shape[0], 1))\n",
    "      \n",
    "      # Zero the gradients\n",
    "        optimizer.zero_grad()\n",
    "      \n",
    "      # Perform forward pass\n",
    "        outputs = mlp(inputs)\n",
    "        mu_s = outputs[:,0]\n",
    "        sigma_s = outputs[:,1]  #sigma2 \n",
    "        #sigma_s = torch.exp(outputs[:,1])\n",
    "        #print(outputs.shape)\n",
    "      \n",
    "      # Compute loss\n",
    "        #loss = loss_function(outputs, targets)\n",
    "        loss = loss_function(mu_s, targets, sigma_s)\n",
    "      \n",
    "      # Perform backward pass\n",
    "        loss.backward()\n",
    "      \n",
    "      # Perform optimization\n",
    "        optimizer.step()\n",
    "      \n",
    "      # Print statistics\n",
    "        current_loss += loss.item()\n",
    "        \n",
    "        #if i % 500 == 0:\n",
    "        if i % 20 == 0:\n",
    "            print('Loss after mini-batch %5d: %.3f' %\n",
    "                (i + 1, current_loss / 500))\n",
    "            current_loss = 0.0\n",
    "\n",
    "  # Process is complete.\n",
    "    loss_vals.append(current_loss)\n",
    "    print('Training process has finished.')"
   ]
  },
  {
   "cell_type": "code",
   "execution_count": null,
   "id": "4911952f",
   "metadata": {},
   "outputs": [],
   "source": []
  },
  {
   "cell_type": "code",
   "execution_count": null,
   "id": "97b67b20",
   "metadata": {},
   "outputs": [],
   "source": [
    "#!conda install pytorch torchvision torchaudio -c pytorch\n"
   ]
  },
  {
   "cell_type": "code",
   "execution_count": null,
   "id": "fe17f87d",
   "metadata": {},
   "outputs": [],
   "source": [
    "next(iter(dataloader)).shape"
   ]
  },
  {
   "cell_type": "code",
   "execution_count": null,
   "id": "ee240ebf",
   "metadata": {},
   "outputs": [],
   "source": [
    "for batch_idx, data in enumerate(dataloader, 0):\n",
    "    #print(batch_idx)\n",
    "    #print(torch.reshape(data,(-1,32)).shape)\n",
    "    data = torch.reshape(data,(-1,32))\n",
    "    inputs, targets = data[:,:-1], data[:,-1]\n",
    "    #inputs, targets = inputs.float(), targets.float()\n",
    "    #print(targets.shape)\n",
    "    targets = targets.reshape((targets.shape[0], 1))\n",
    "    #print(targets.shape)\n",
    "    \n",
    "    #print(data[:,:,])\n",
    "    inp = inputs\n",
    "    print(inputs.dtype)\n",
    "    break\n",
    "    #outputs = mlp(inputs)\n",
    "    #mu_s = outputs[:,0]\n",
    "    #sigma_s = outputs[:,1] \n",
    "    "
   ]
  },
  {
   "cell_type": "code",
   "execution_count": null,
   "id": "bf005e55",
   "metadata": {},
   "outputs": [],
   "source": [
    "mmmm[1].shape[0]"
   ]
  },
  {
   "cell_type": "code",
   "execution_count": null,
   "id": "ad1a6fa4",
   "metadata": {},
   "outputs": [],
   "source": [
    "len(fashion)"
   ]
  },
  {
   "cell_type": "code",
   "execution_count": null,
   "id": "0030d60b",
   "metadata": {},
   "outputs": [],
   "source": [
    "inp = inp-0.05"
   ]
  },
  {
   "cell_type": "code",
   "execution_count": null,
   "id": "bcf21da2",
   "metadata": {},
   "outputs": [],
   "source": [
    "mlp(inp)"
   ]
  },
  {
   "cell_type": "code",
   "execution_count": null,
   "id": "7f68540b",
   "metadata": {},
   "outputs": [],
   "source": []
  }
 ],
 "metadata": {
  "kernelspec": {
   "display_name": "Python 3",
   "language": "python",
   "name": "python3"
  },
  "language_info": {
   "codemirror_mode": {
    "name": "ipython",
    "version": 3
   },
   "file_extension": ".py",
   "mimetype": "text/x-python",
   "name": "python",
   "nbconvert_exporter": "python",
   "pygments_lexer": "ipython3",
   "version": "3.8.8"
  }
 },
 "nbformat": 4,
 "nbformat_minor": 5
}
